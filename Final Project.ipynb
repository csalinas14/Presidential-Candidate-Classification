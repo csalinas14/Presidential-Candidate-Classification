{
 "cells": [
  {
   "cell_type": "code",
   "execution_count": 743,
   "metadata": {},
   "outputs": [
    {
     "data": {
      "text/html": [
       "<div>\n",
       "<style scoped>\n",
       "    .dataframe tbody tr th:only-of-type {\n",
       "        vertical-align: middle;\n",
       "    }\n",
       "\n",
       "    .dataframe tbody tr th {\n",
       "        vertical-align: top;\n",
       "    }\n",
       "\n",
       "    .dataframe thead th {\n",
       "        text-align: right;\n",
       "    }\n",
       "</style>\n",
       "<table border=\"1\" class=\"dataframe\">\n",
       "  <thead>\n",
       "    <tr style=\"text-align: right;\">\n",
       "      <th></th>\n",
       "      <th>state</th>\n",
       "      <th>county</th>\n",
       "      <th>fips</th>\n",
       "      <th>trump16</th>\n",
       "      <th>clinton16</th>\n",
       "      <th>otherpres16</th>\n",
       "      <th>romney12</th>\n",
       "      <th>obama12</th>\n",
       "      <th>otherpres12</th>\n",
       "      <th>demsen16</th>\n",
       "      <th>...</th>\n",
       "      <th>age29andunder_pct</th>\n",
       "      <th>age65andolder_pct</th>\n",
       "      <th>median_hh_inc</th>\n",
       "      <th>clf_unemploy_pct</th>\n",
       "      <th>lesshs_pct</th>\n",
       "      <th>lesscollege_pct</th>\n",
       "      <th>lesshs_whites_pct</th>\n",
       "      <th>lesscollege_whites_pct</th>\n",
       "      <th>rural_pct</th>\n",
       "      <th>ruralurban_cc</th>\n",
       "    </tr>\n",
       "  </thead>\n",
       "  <tbody>\n",
       "    <tr>\n",
       "      <td>0</td>\n",
       "      <td>Alabama</td>\n",
       "      <td>Autauga</td>\n",
       "      <td>1001</td>\n",
       "      <td>18172</td>\n",
       "      <td>5936</td>\n",
       "      <td>865</td>\n",
       "      <td>17379</td>\n",
       "      <td>6363</td>\n",
       "      <td>190</td>\n",
       "      <td>6331.0</td>\n",
       "      <td>...</td>\n",
       "      <td>40.037058</td>\n",
       "      <td>13.978456</td>\n",
       "      <td>53099.0</td>\n",
       "      <td>5.591657</td>\n",
       "      <td>12.417046</td>\n",
       "      <td>75.407229</td>\n",
       "      <td>10.002112</td>\n",
       "      <td>74.065601</td>\n",
       "      <td>42.002162</td>\n",
       "      <td>2.0</td>\n",
       "    </tr>\n",
       "    <tr>\n",
       "      <td>1</td>\n",
       "      <td>Alabama</td>\n",
       "      <td>Baldwin</td>\n",
       "      <td>1003</td>\n",
       "      <td>72883</td>\n",
       "      <td>18458</td>\n",
       "      <td>3874</td>\n",
       "      <td>66016</td>\n",
       "      <td>18424</td>\n",
       "      <td>898</td>\n",
       "      <td>19145.0</td>\n",
       "      <td>...</td>\n",
       "      <td>35.474412</td>\n",
       "      <td>18.714851</td>\n",
       "      <td>51365.0</td>\n",
       "      <td>6.286843</td>\n",
       "      <td>9.972418</td>\n",
       "      <td>70.452889</td>\n",
       "      <td>7.842227</td>\n",
       "      <td>68.405607</td>\n",
       "      <td>42.279099</td>\n",
       "      <td>3.0</td>\n",
       "    </tr>\n",
       "    <tr>\n",
       "      <td>2</td>\n",
       "      <td>Alabama</td>\n",
       "      <td>Barbour</td>\n",
       "      <td>1005</td>\n",
       "      <td>5454</td>\n",
       "      <td>4871</td>\n",
       "      <td>144</td>\n",
       "      <td>5550</td>\n",
       "      <td>5912</td>\n",
       "      <td>47</td>\n",
       "      <td>4777.0</td>\n",
       "      <td>...</td>\n",
       "      <td>37.664387</td>\n",
       "      <td>16.528895</td>\n",
       "      <td>33956.0</td>\n",
       "      <td>12.824738</td>\n",
       "      <td>26.235928</td>\n",
       "      <td>87.132213</td>\n",
       "      <td>19.579752</td>\n",
       "      <td>81.364746</td>\n",
       "      <td>67.789635</td>\n",
       "      <td>6.0</td>\n",
       "    </tr>\n",
       "    <tr>\n",
       "      <td>3</td>\n",
       "      <td>Alabama</td>\n",
       "      <td>Bibb</td>\n",
       "      <td>1007</td>\n",
       "      <td>6738</td>\n",
       "      <td>1874</td>\n",
       "      <td>207</td>\n",
       "      <td>6132</td>\n",
       "      <td>2202</td>\n",
       "      <td>86</td>\n",
       "      <td>2082.0</td>\n",
       "      <td>...</td>\n",
       "      <td>37.329435</td>\n",
       "      <td>14.885699</td>\n",
       "      <td>39776.0</td>\n",
       "      <td>7.146827</td>\n",
       "      <td>19.301587</td>\n",
       "      <td>88.000000</td>\n",
       "      <td>15.020490</td>\n",
       "      <td>87.471774</td>\n",
       "      <td>68.352607</td>\n",
       "      <td>1.0</td>\n",
       "    </tr>\n",
       "    <tr>\n",
       "      <td>4</td>\n",
       "      <td>Alabama</td>\n",
       "      <td>Blount</td>\n",
       "      <td>1009</td>\n",
       "      <td>22859</td>\n",
       "      <td>2156</td>\n",
       "      <td>573</td>\n",
       "      <td>20757</td>\n",
       "      <td>2970</td>\n",
       "      <td>279</td>\n",
       "      <td>2980.0</td>\n",
       "      <td>...</td>\n",
       "      <td>37.240053</td>\n",
       "      <td>17.192916</td>\n",
       "      <td>46212.0</td>\n",
       "      <td>5.953833</td>\n",
       "      <td>19.968585</td>\n",
       "      <td>86.950243</td>\n",
       "      <td>16.643368</td>\n",
       "      <td>86.163610</td>\n",
       "      <td>89.951502</td>\n",
       "      <td>1.0</td>\n",
       "    </tr>\n",
       "  </tbody>\n",
       "</table>\n",
       "<p>5 rows × 39 columns</p>\n",
       "</div>"
      ],
      "text/plain": [
       "     state   county  fips  trump16  clinton16  otherpres16  romney12  obama12  \\\n",
       "0  Alabama  Autauga  1001    18172       5936          865     17379     6363   \n",
       "1  Alabama  Baldwin  1003    72883      18458         3874     66016    18424   \n",
       "2  Alabama  Barbour  1005     5454       4871          144      5550     5912   \n",
       "3  Alabama     Bibb  1007     6738       1874          207      6132     2202   \n",
       "4  Alabama   Blount  1009    22859       2156          573     20757     2970   \n",
       "\n",
       "   otherpres12  demsen16  ...  age29andunder_pct  age65andolder_pct  \\\n",
       "0          190    6331.0  ...          40.037058          13.978456   \n",
       "1          898   19145.0  ...          35.474412          18.714851   \n",
       "2           47    4777.0  ...          37.664387          16.528895   \n",
       "3           86    2082.0  ...          37.329435          14.885699   \n",
       "4          279    2980.0  ...          37.240053          17.192916   \n",
       "\n",
       "   median_hh_inc  clf_unemploy_pct  lesshs_pct  lesscollege_pct  \\\n",
       "0        53099.0          5.591657   12.417046        75.407229   \n",
       "1        51365.0          6.286843    9.972418        70.452889   \n",
       "2        33956.0         12.824738   26.235928        87.132213   \n",
       "3        39776.0          7.146827   19.301587        88.000000   \n",
       "4        46212.0          5.953833   19.968585        86.950243   \n",
       "\n",
       "   lesshs_whites_pct  lesscollege_whites_pct  rural_pct  ruralurban_cc  \n",
       "0          10.002112               74.065601  42.002162            2.0  \n",
       "1           7.842227               68.405607  42.279099            3.0  \n",
       "2          19.579752               81.364746  67.789635            6.0  \n",
       "3          15.020490               87.471774  68.352607            1.0  \n",
       "4          16.643368               86.163610  89.951502            1.0  \n",
       "\n",
       "[5 rows x 39 columns]"
      ]
     },
     "execution_count": 743,
     "metadata": {},
     "output_type": "execute_result"
    }
   ],
   "source": [
    "#load the dataset\n",
    "import pandas as pd\n",
    "import numpy as np\n",
    "import os\n",
    "\n",
    "election_data=pd.read_csv(\"election-context-2018.csv\")\n",
    "election_data.head()\n"
   ]
  },
  {
   "cell_type": "code",
   "execution_count": 744,
   "metadata": {},
   "outputs": [
    {
     "data": {
      "text/plain": [
       "['state',\n",
       " 'county',\n",
       " 'fips',\n",
       " 'trump16',\n",
       " 'clinton16',\n",
       " 'otherpres16',\n",
       " 'romney12',\n",
       " 'obama12',\n",
       " 'otherpres12',\n",
       " 'demsen16',\n",
       " 'repsen16',\n",
       " 'othersen16',\n",
       " 'demhouse16',\n",
       " 'rephouse16',\n",
       " 'otherhouse16',\n",
       " 'demgov16',\n",
       " 'repgov16',\n",
       " 'othergov16',\n",
       " 'repgov14',\n",
       " 'demgov14',\n",
       " 'othergov14',\n",
       " 'total_population',\n",
       " 'cvap',\n",
       " 'white_pct',\n",
       " 'black_pct',\n",
       " 'hispanic_pct',\n",
       " 'nonwhite_pct',\n",
       " 'foreignborn_pct',\n",
       " 'female_pct',\n",
       " 'age29andunder_pct',\n",
       " 'age65andolder_pct',\n",
       " 'median_hh_inc',\n",
       " 'clf_unemploy_pct',\n",
       " 'lesshs_pct',\n",
       " 'lesscollege_pct',\n",
       " 'lesshs_whites_pct',\n",
       " 'lesscollege_whites_pct',\n",
       " 'rural_pct',\n",
       " 'ruralurban_cc']"
      ]
     },
     "execution_count": 744,
     "metadata": {},
     "output_type": "execute_result"
    }
   ],
   "source": [
    "election_cols = [str(col) for col in election_data.columns]\n",
    "election_cols"
   ]
  },
  {
   "cell_type": "code",
   "execution_count": 745,
   "metadata": {},
   "outputs": [
    {
     "name": "stdout",
     "output_type": "stream",
     "text": [
      "Number of features: 38\n"
     ]
    }
   ],
   "source": [
    "num_features=len(election_data.columns)-1\n",
    "print(\"Number of features:\",num_features)"
   ]
  },
  {
   "cell_type": "code",
   "execution_count": 746,
   "metadata": {},
   "outputs": [
    {
     "name": "stdout",
     "output_type": "stream",
     "text": [
      "<class 'pandas.core.frame.DataFrame'>\n",
      "RangeIndex: 3114 entries, 0 to 3113\n",
      "Data columns (total 39 columns):\n",
      "state                     3114 non-null object\n",
      "county                    3114 non-null object\n",
      "fips                      3114 non-null int64\n",
      "trump16                   3114 non-null int64\n",
      "clinton16                 3114 non-null int64\n",
      "otherpres16               3114 non-null int64\n",
      "romney12                  3114 non-null int64\n",
      "obama12                   3114 non-null int64\n",
      "otherpres12               3114 non-null int64\n",
      "demsen16                  1942 non-null float64\n",
      "repsen16                  1942 non-null float64\n",
      "othersen16                1942 non-null float64\n",
      "demhouse16                2862 non-null float64\n",
      "rephouse16                2862 non-null float64\n",
      "otherhouse16              2862 non-null float64\n",
      "demgov16                  601 non-null float64\n",
      "repgov16                  601 non-null float64\n",
      "othergov16                601 non-null float64\n",
      "repgov14                  2148 non-null float64\n",
      "demgov14                  2148 non-null float64\n",
      "othergov14                2148 non-null float64\n",
      "total_population          3111 non-null float64\n",
      "cvap                      3111 non-null float64\n",
      "white_pct                 3111 non-null float64\n",
      "black_pct                 3111 non-null float64\n",
      "hispanic_pct              3111 non-null float64\n",
      "nonwhite_pct              3111 non-null float64\n",
      "foreignborn_pct           3111 non-null float64\n",
      "female_pct                3111 non-null float64\n",
      "age29andunder_pct         3111 non-null float64\n",
      "age65andolder_pct         3111 non-null float64\n",
      "median_hh_inc             3111 non-null float64\n",
      "clf_unemploy_pct          3111 non-null float64\n",
      "lesshs_pct                3111 non-null float64\n",
      "lesscollege_pct           3111 non-null float64\n",
      "lesshs_whites_pct         3111 non-null float64\n",
      "lesscollege_whites_pct    3111 non-null float64\n",
      "rural_pct                 3113 non-null float64\n",
      "ruralurban_cc             3113 non-null float64\n",
      "dtypes: float64(30), int64(7), object(2)\n",
      "memory usage: 948.9+ KB\n"
     ]
    }
   ],
   "source": [
    "election_data.info()"
   ]
  },
  {
   "cell_type": "code",
   "execution_count": 747,
   "metadata": {},
   "outputs": [
    {
     "name": "stdout",
     "output_type": "stream",
     "text": [
      "state : ['Alabama' 'Arizona' 'Arkansas' 'California' 'Colorado' 'Connecticut'\n",
      " 'Delaware' 'District of Columbia' 'Florida' 'Georgia' 'Hawaii' 'Idaho'\n",
      " 'Illinois' 'Indiana' 'Iowa' 'Kansas' 'Kentucky' 'Louisiana' 'Maine'\n",
      " 'Maryland' 'Massachusetts' 'Michigan' 'Minnesota' 'Mississippi'\n",
      " 'Missouri' 'Montana' 'Nebraska' 'Nevada' 'New Hampshire' 'New Jersey'\n",
      " 'New Mexico' 'New York' 'North Carolina' 'North Dakota' 'Ohio' 'Oklahoma'\n",
      " 'Oregon' 'Pennsylvania' 'Rhode Island' 'South Carolina' 'South Dakota'\n",
      " 'Tennessee' 'Texas' 'Utah' 'Vermont' 'Virginia' 'Washington'\n",
      " 'West Virginia' 'Wisconsin' 'Wyoming']\n",
      "county : ['Autauga' 'Baldwin' 'Barbour' ... 'Uinta' 'Washakie' 'Weston']\n",
      "ruralurban_cc : {nan, 1.0, 2.0, 3.0, 4.0, 5.0, 6.0, 7.0, 8.0, 9.0}\n"
     ]
    }
   ],
   "source": [
    "#Determine nature of object types\n",
    "election_cat_columns=dict()\n",
    "election_cat_columns_idx=dict()\n",
    "election_num_columns_idx=dict()\n",
    "for col in election_cols:\n",
    "    if election_data[col].dtype == 'object':\n",
    "        election_cat_columns[col]=election_data[col].unique()\n",
    "        election_num_columns_idx[col]=election_data.columns.get_loc(col)\n",
    "        print(col,\":\",election_cat_columns[col])\n",
    "    elif col == 'ruralurban_cc':\n",
    "        election_cat_columns[col]=set(election_data[col])\n",
    "        print(col,\":\",election_cat_columns[col])\n",
    "    elif np.issubdtype(election_data.at[0,col], np.number):\n",
    "        election_num_columns_idx[col]=election_data.columns.get_loc(col)"
   ]
  },
  {
   "cell_type": "code",
   "execution_count": 748,
   "metadata": {},
   "outputs": [],
   "source": [
    "def label_candidate(row):\n",
    "    if row['trump16'] > row['clinton16']:\n",
    "        if row['trump16'] > row['otherpres16']:\n",
    "            return 'Trump'\n",
    "        else: \n",
    "            return 'Other'\n",
    "    elif row['clinton16'] > row['trump16']:\n",
    "        if row['clinton16'] > row['otherpres16']:\n",
    "            return 'Clinton'\n",
    "        else:\n",
    "            return 'Other'\n",
    "    else:\n",
    "        #tie\n",
    "        return 'Tie'"
   ]
  },
  {
   "cell_type": "code",
   "execution_count": 749,
   "metadata": {},
   "outputs": [],
   "source": [
    "# 0 is Trump\n",
    "# 1 is Clinton\n",
    "# 2 is Other\n",
    "# 3 is Tie"
   ]
  },
  {
   "cell_type": "code",
   "execution_count": 750,
   "metadata": {},
   "outputs": [],
   "source": [
    "election_data['CandidateWon'] = election_data.apply(lambda row: label_candidate(row), axis=1)"
   ]
  },
  {
   "cell_type": "code",
   "execution_count": 751,
   "metadata": {},
   "outputs": [
    {
     "data": {
      "text/html": [
       "<div>\n",
       "<style scoped>\n",
       "    .dataframe tbody tr th:only-of-type {\n",
       "        vertical-align: middle;\n",
       "    }\n",
       "\n",
       "    .dataframe tbody tr th {\n",
       "        vertical-align: top;\n",
       "    }\n",
       "\n",
       "    .dataframe thead th {\n",
       "        text-align: right;\n",
       "    }\n",
       "</style>\n",
       "<table border=\"1\" class=\"dataframe\">\n",
       "  <thead>\n",
       "    <tr style=\"text-align: right;\">\n",
       "      <th></th>\n",
       "      <th>state</th>\n",
       "      <th>county</th>\n",
       "      <th>fips</th>\n",
       "      <th>romney12</th>\n",
       "      <th>obama12</th>\n",
       "      <th>otherpres12</th>\n",
       "      <th>demsen16</th>\n",
       "      <th>repsen16</th>\n",
       "      <th>othersen16</th>\n",
       "      <th>demhouse16</th>\n",
       "      <th>...</th>\n",
       "      <th>age65andolder_pct</th>\n",
       "      <th>median_hh_inc</th>\n",
       "      <th>clf_unemploy_pct</th>\n",
       "      <th>lesshs_pct</th>\n",
       "      <th>lesscollege_pct</th>\n",
       "      <th>lesshs_whites_pct</th>\n",
       "      <th>lesscollege_whites_pct</th>\n",
       "      <th>rural_pct</th>\n",
       "      <th>ruralurban_cc</th>\n",
       "      <th>CandidateWon</th>\n",
       "    </tr>\n",
       "  </thead>\n",
       "  <tbody>\n",
       "    <tr>\n",
       "      <td>0</td>\n",
       "      <td>Alabama</td>\n",
       "      <td>Autauga</td>\n",
       "      <td>1001</td>\n",
       "      <td>17379</td>\n",
       "      <td>6363</td>\n",
       "      <td>190</td>\n",
       "      <td>6331.0</td>\n",
       "      <td>18220.0</td>\n",
       "      <td>62.0</td>\n",
       "      <td>7544.0</td>\n",
       "      <td>...</td>\n",
       "      <td>13.978456</td>\n",
       "      <td>53099.0</td>\n",
       "      <td>5.591657</td>\n",
       "      <td>12.417046</td>\n",
       "      <td>75.407229</td>\n",
       "      <td>10.002112</td>\n",
       "      <td>74.065601</td>\n",
       "      <td>42.002162</td>\n",
       "      <td>2.0</td>\n",
       "      <td>Trump</td>\n",
       "    </tr>\n",
       "    <tr>\n",
       "      <td>1</td>\n",
       "      <td>Alabama</td>\n",
       "      <td>Baldwin</td>\n",
       "      <td>1003</td>\n",
       "      <td>66016</td>\n",
       "      <td>18424</td>\n",
       "      <td>898</td>\n",
       "      <td>19145.0</td>\n",
       "      <td>74021.0</td>\n",
       "      <td>248.0</td>\n",
       "      <td>0.0</td>\n",
       "      <td>...</td>\n",
       "      <td>18.714851</td>\n",
       "      <td>51365.0</td>\n",
       "      <td>6.286843</td>\n",
       "      <td>9.972418</td>\n",
       "      <td>70.452889</td>\n",
       "      <td>7.842227</td>\n",
       "      <td>68.405607</td>\n",
       "      <td>42.279099</td>\n",
       "      <td>3.0</td>\n",
       "      <td>Trump</td>\n",
       "    </tr>\n",
       "    <tr>\n",
       "      <td>2</td>\n",
       "      <td>Alabama</td>\n",
       "      <td>Barbour</td>\n",
       "      <td>1005</td>\n",
       "      <td>5550</td>\n",
       "      <td>5912</td>\n",
       "      <td>47</td>\n",
       "      <td>4777.0</td>\n",
       "      <td>5436.0</td>\n",
       "      <td>16.0</td>\n",
       "      <td>5297.0</td>\n",
       "      <td>...</td>\n",
       "      <td>16.528895</td>\n",
       "      <td>33956.0</td>\n",
       "      <td>12.824738</td>\n",
       "      <td>26.235928</td>\n",
       "      <td>87.132213</td>\n",
       "      <td>19.579752</td>\n",
       "      <td>81.364746</td>\n",
       "      <td>67.789635</td>\n",
       "      <td>6.0</td>\n",
       "      <td>Trump</td>\n",
       "    </tr>\n",
       "    <tr>\n",
       "      <td>3</td>\n",
       "      <td>Alabama</td>\n",
       "      <td>Bibb</td>\n",
       "      <td>1007</td>\n",
       "      <td>6132</td>\n",
       "      <td>2202</td>\n",
       "      <td>86</td>\n",
       "      <td>2082.0</td>\n",
       "      <td>6612.0</td>\n",
       "      <td>17.0</td>\n",
       "      <td>1971.0</td>\n",
       "      <td>...</td>\n",
       "      <td>14.885699</td>\n",
       "      <td>39776.0</td>\n",
       "      <td>7.146827</td>\n",
       "      <td>19.301587</td>\n",
       "      <td>88.000000</td>\n",
       "      <td>15.020490</td>\n",
       "      <td>87.471774</td>\n",
       "      <td>68.352607</td>\n",
       "      <td>1.0</td>\n",
       "      <td>Trump</td>\n",
       "    </tr>\n",
       "    <tr>\n",
       "      <td>4</td>\n",
       "      <td>Alabama</td>\n",
       "      <td>Blount</td>\n",
       "      <td>1009</td>\n",
       "      <td>20757</td>\n",
       "      <td>2970</td>\n",
       "      <td>279</td>\n",
       "      <td>2980.0</td>\n",
       "      <td>22169.0</td>\n",
       "      <td>48.0</td>\n",
       "      <td>2390.0</td>\n",
       "      <td>...</td>\n",
       "      <td>17.192916</td>\n",
       "      <td>46212.0</td>\n",
       "      <td>5.953833</td>\n",
       "      <td>19.968585</td>\n",
       "      <td>86.950243</td>\n",
       "      <td>16.643368</td>\n",
       "      <td>86.163610</td>\n",
       "      <td>89.951502</td>\n",
       "      <td>1.0</td>\n",
       "      <td>Trump</td>\n",
       "    </tr>\n",
       "    <tr>\n",
       "      <td>...</td>\n",
       "      <td>...</td>\n",
       "      <td>...</td>\n",
       "      <td>...</td>\n",
       "      <td>...</td>\n",
       "      <td>...</td>\n",
       "      <td>...</td>\n",
       "      <td>...</td>\n",
       "      <td>...</td>\n",
       "      <td>...</td>\n",
       "      <td>...</td>\n",
       "      <td>...</td>\n",
       "      <td>...</td>\n",
       "      <td>...</td>\n",
       "      <td>...</td>\n",
       "      <td>...</td>\n",
       "      <td>...</td>\n",
       "      <td>...</td>\n",
       "      <td>...</td>\n",
       "      <td>...</td>\n",
       "      <td>...</td>\n",
       "      <td>...</td>\n",
       "    </tr>\n",
       "    <tr>\n",
       "      <td>3109</td>\n",
       "      <td>Wyoming</td>\n",
       "      <td>Sweetwater</td>\n",
       "      <td>56037</td>\n",
       "      <td>11428</td>\n",
       "      <td>4774</td>\n",
       "      <td>693</td>\n",
       "      <td>NaN</td>\n",
       "      <td>NaN</td>\n",
       "      <td>NaN</td>\n",
       "      <td>6536.0</td>\n",
       "      <td>...</td>\n",
       "      <td>9.417120</td>\n",
       "      <td>68233.0</td>\n",
       "      <td>5.072255</td>\n",
       "      <td>9.314606</td>\n",
       "      <td>78.628507</td>\n",
       "      <td>6.238463</td>\n",
       "      <td>76.606813</td>\n",
       "      <td>10.916313</td>\n",
       "      <td>5.0</td>\n",
       "      <td>Trump</td>\n",
       "    </tr>\n",
       "    <tr>\n",
       "      <td>3110</td>\n",
       "      <td>Wyoming</td>\n",
       "      <td>Teton</td>\n",
       "      <td>56039</td>\n",
       "      <td>4858</td>\n",
       "      <td>6213</td>\n",
       "      <td>393</td>\n",
       "      <td>NaN</td>\n",
       "      <td>NaN</td>\n",
       "      <td>NaN</td>\n",
       "      <td>7417.0</td>\n",
       "      <td>...</td>\n",
       "      <td>11.837510</td>\n",
       "      <td>75594.0</td>\n",
       "      <td>2.123447</td>\n",
       "      <td>4.633570</td>\n",
       "      <td>46.211584</td>\n",
       "      <td>1.526877</td>\n",
       "      <td>41.769504</td>\n",
       "      <td>46.430920</td>\n",
       "      <td>7.0</td>\n",
       "      <td>Clinton</td>\n",
       "    </tr>\n",
       "    <tr>\n",
       "      <td>3111</td>\n",
       "      <td>Wyoming</td>\n",
       "      <td>Uinta</td>\n",
       "      <td>56041</td>\n",
       "      <td>6615</td>\n",
       "      <td>1628</td>\n",
       "      <td>296</td>\n",
       "      <td>NaN</td>\n",
       "      <td>NaN</td>\n",
       "      <td>NaN</td>\n",
       "      <td>1826.0</td>\n",
       "      <td>...</td>\n",
       "      <td>10.678218</td>\n",
       "      <td>53323.0</td>\n",
       "      <td>6.390755</td>\n",
       "      <td>10.361224</td>\n",
       "      <td>81.793082</td>\n",
       "      <td>8.806312</td>\n",
       "      <td>81.080852</td>\n",
       "      <td>43.095937</td>\n",
       "      <td>7.0</td>\n",
       "      <td>Trump</td>\n",
       "    </tr>\n",
       "    <tr>\n",
       "      <td>3112</td>\n",
       "      <td>Wyoming</td>\n",
       "      <td>Washakie</td>\n",
       "      <td>56043</td>\n",
       "      <td>3014</td>\n",
       "      <td>794</td>\n",
       "      <td>136</td>\n",
       "      <td>NaN</td>\n",
       "      <td>NaN</td>\n",
       "      <td>NaN</td>\n",
       "      <td>799.0</td>\n",
       "      <td>...</td>\n",
       "      <td>19.650341</td>\n",
       "      <td>46212.0</td>\n",
       "      <td>7.441860</td>\n",
       "      <td>12.577108</td>\n",
       "      <td>78.923920</td>\n",
       "      <td>10.299738</td>\n",
       "      <td>75.980688</td>\n",
       "      <td>35.954529</td>\n",
       "      <td>7.0</td>\n",
       "      <td>Trump</td>\n",
       "    </tr>\n",
       "    <tr>\n",
       "      <td>3113</td>\n",
       "      <td>Wyoming</td>\n",
       "      <td>Weston</td>\n",
       "      <td>56045</td>\n",
       "      <td>2821</td>\n",
       "      <td>422</td>\n",
       "      <td>116</td>\n",
       "      <td>NaN</td>\n",
       "      <td>NaN</td>\n",
       "      <td>NaN</td>\n",
       "      <td>621.0</td>\n",
       "      <td>...</td>\n",
       "      <td>18.355401</td>\n",
       "      <td>55640.0</td>\n",
       "      <td>3.610949</td>\n",
       "      <td>8.592392</td>\n",
       "      <td>81.193281</td>\n",
       "      <td>7.342144</td>\n",
       "      <td>81.141179</td>\n",
       "      <td>54.536626</td>\n",
       "      <td>7.0</td>\n",
       "      <td>Trump</td>\n",
       "    </tr>\n",
       "  </tbody>\n",
       "</table>\n",
       "<p>3114 rows × 37 columns</p>\n",
       "</div>"
      ],
      "text/plain": [
       "        state      county   fips  romney12  obama12  otherpres12  demsen16  \\\n",
       "0     Alabama     Autauga   1001     17379     6363          190    6331.0   \n",
       "1     Alabama     Baldwin   1003     66016    18424          898   19145.0   \n",
       "2     Alabama     Barbour   1005      5550     5912           47    4777.0   \n",
       "3     Alabama        Bibb   1007      6132     2202           86    2082.0   \n",
       "4     Alabama      Blount   1009     20757     2970          279    2980.0   \n",
       "...       ...         ...    ...       ...      ...          ...       ...   \n",
       "3109  Wyoming  Sweetwater  56037     11428     4774          693       NaN   \n",
       "3110  Wyoming       Teton  56039      4858     6213          393       NaN   \n",
       "3111  Wyoming       Uinta  56041      6615     1628          296       NaN   \n",
       "3112  Wyoming    Washakie  56043      3014      794          136       NaN   \n",
       "3113  Wyoming      Weston  56045      2821      422          116       NaN   \n",
       "\n",
       "      repsen16  othersen16  demhouse16  ...  age65andolder_pct  median_hh_inc  \\\n",
       "0      18220.0        62.0      7544.0  ...          13.978456        53099.0   \n",
       "1      74021.0       248.0         0.0  ...          18.714851        51365.0   \n",
       "2       5436.0        16.0      5297.0  ...          16.528895        33956.0   \n",
       "3       6612.0        17.0      1971.0  ...          14.885699        39776.0   \n",
       "4      22169.0        48.0      2390.0  ...          17.192916        46212.0   \n",
       "...        ...         ...         ...  ...                ...            ...   \n",
       "3109       NaN         NaN      6536.0  ...           9.417120        68233.0   \n",
       "3110       NaN         NaN      7417.0  ...          11.837510        75594.0   \n",
       "3111       NaN         NaN      1826.0  ...          10.678218        53323.0   \n",
       "3112       NaN         NaN       799.0  ...          19.650341        46212.0   \n",
       "3113       NaN         NaN       621.0  ...          18.355401        55640.0   \n",
       "\n",
       "      clf_unemploy_pct  lesshs_pct  lesscollege_pct  lesshs_whites_pct  \\\n",
       "0             5.591657   12.417046        75.407229          10.002112   \n",
       "1             6.286843    9.972418        70.452889           7.842227   \n",
       "2            12.824738   26.235928        87.132213          19.579752   \n",
       "3             7.146827   19.301587        88.000000          15.020490   \n",
       "4             5.953833   19.968585        86.950243          16.643368   \n",
       "...                ...         ...              ...                ...   \n",
       "3109          5.072255    9.314606        78.628507           6.238463   \n",
       "3110          2.123447    4.633570        46.211584           1.526877   \n",
       "3111          6.390755   10.361224        81.793082           8.806312   \n",
       "3112          7.441860   12.577108        78.923920          10.299738   \n",
       "3113          3.610949    8.592392        81.193281           7.342144   \n",
       "\n",
       "      lesscollege_whites_pct  rural_pct  ruralurban_cc  CandidateWon  \n",
       "0                  74.065601  42.002162            2.0         Trump  \n",
       "1                  68.405607  42.279099            3.0         Trump  \n",
       "2                  81.364746  67.789635            6.0         Trump  \n",
       "3                  87.471774  68.352607            1.0         Trump  \n",
       "4                  86.163610  89.951502            1.0         Trump  \n",
       "...                      ...        ...            ...           ...  \n",
       "3109               76.606813  10.916313            5.0         Trump  \n",
       "3110               41.769504  46.430920            7.0       Clinton  \n",
       "3111               81.080852  43.095937            7.0         Trump  \n",
       "3112               75.980688  35.954529            7.0         Trump  \n",
       "3113               81.141179  54.536626            7.0         Trump  \n",
       "\n",
       "[3114 rows x 37 columns]"
      ]
     },
     "execution_count": 751,
     "metadata": {},
     "output_type": "execute_result"
    }
   ],
   "source": [
    "election_data.drop('trump16', axis=1, inplace=True)\n",
    "election_data.drop('clinton16', axis=1, inplace=True)\n",
    "election_data.drop('otherpres16', axis=1, inplace=True)\n",
    "election_data"
   ]
  },
  {
   "cell_type": "code",
   "execution_count": 752,
   "metadata": {},
   "outputs": [
    {
     "name": "stdout",
     "output_type": "stream",
     "text": [
      "Total counts\n"
     ]
    },
    {
     "data": {
      "text/plain": [
       "Trump      2620\n",
       "Clinton     490\n",
       "Other         3\n",
       "Tie           1\n",
       "Name: CandidateWon, dtype: int64"
      ]
     },
     "execution_count": 752,
     "metadata": {},
     "output_type": "execute_result"
    }
   ],
   "source": [
    "print(\"Total counts\")\n",
    "election_data['CandidateWon'].value_counts()\n",
    "#so we see that trump won the most counties\n",
    "#we also want to primarily use a dataset with just Trump and Clinton wins so I will split the dataset here and have\n",
    "#one with other and ties and one without that"
   ]
  },
  {
   "cell_type": "code",
   "execution_count": 753,
   "metadata": {},
   "outputs": [],
   "source": [
    "election_data_with_other_ties = election_data.copy()"
   ]
  },
  {
   "cell_type": "code",
   "execution_count": 754,
   "metadata": {},
   "outputs": [
    {
     "data": {
      "text/plain": [
       "Trump      2620\n",
       "Clinton     490\n",
       "Name: CandidateWon, dtype: int64"
      ]
     },
     "execution_count": 754,
     "metadata": {},
     "output_type": "execute_result"
    }
   ],
   "source": [
    "election_data = election_data[election_data['CandidateWon'] != 'Other']\n",
    "election_data = election_data[election_data['CandidateWon'] != 'Tie']\n",
    "election_data['CandidateWon'].value_counts()"
   ]
  },
  {
   "cell_type": "code",
   "execution_count": 755,
   "metadata": {},
   "outputs": [
    {
     "data": {
      "text/plain": [
       "Trump      0.842444\n",
       "Clinton    0.157556\n",
       "Name: CandidateWon, dtype: float64"
      ]
     },
     "execution_count": 755,
     "metadata": {},
     "output_type": "execute_result"
    }
   ],
   "source": [
    "election_data['CandidateWon'].value_counts()/len(election_data['CandidateWon'])\n",
    "#pretty unbalanced"
   ]
  },
  {
   "cell_type": "code",
   "execution_count": 756,
   "metadata": {},
   "outputs": [
    {
     "data": {
      "text/plain": [
       "0      NaN\n",
       "1      NaN\n",
       "2      NaN\n",
       "3      NaN\n",
       "4      NaN\n",
       "        ..\n",
       "3109   NaN\n",
       "3110   NaN\n",
       "3111   NaN\n",
       "3112   NaN\n",
       "3113   NaN\n",
       "Name: demgov16, Length: 3110, dtype: float64"
      ]
     },
     "execution_count": 756,
     "metadata": {},
     "output_type": "execute_result"
    }
   ],
   "source": [
    "#look into nulls other preprocessing\n",
    "import numpy as np\n",
    "election_data = election_data.replace('NA', np.nan)\n",
    "election_data['demgov16']"
   ]
  },
  {
   "cell_type": "code",
   "execution_count": 757,
   "metadata": {},
   "outputs": [
    {
     "data": {
      "text/html": [
       "<div>\n",
       "<style scoped>\n",
       "    .dataframe tbody tr th:only-of-type {\n",
       "        vertical-align: middle;\n",
       "    }\n",
       "\n",
       "    .dataframe tbody tr th {\n",
       "        vertical-align: top;\n",
       "    }\n",
       "\n",
       "    .dataframe thead th {\n",
       "        text-align: right;\n",
       "    }\n",
       "</style>\n",
       "<table border=\"1\" class=\"dataframe\">\n",
       "  <thead>\n",
       "    <tr style=\"text-align: right;\">\n",
       "      <th></th>\n",
       "      <th>column_name</th>\n",
       "      <th>percent_missing</th>\n",
       "    </tr>\n",
       "  </thead>\n",
       "  <tbody>\n",
       "    <tr>\n",
       "      <td>othergov16</td>\n",
       "      <td>othergov16</td>\n",
       "      <td>80.675241</td>\n",
       "    </tr>\n",
       "    <tr>\n",
       "      <td>repgov16</td>\n",
       "      <td>repgov16</td>\n",
       "      <td>80.675241</td>\n",
       "    </tr>\n",
       "    <tr>\n",
       "      <td>demgov16</td>\n",
       "      <td>demgov16</td>\n",
       "      <td>80.675241</td>\n",
       "    </tr>\n",
       "    <tr>\n",
       "      <td>demsen16</td>\n",
       "      <td>demsen16</td>\n",
       "      <td>37.652733</td>\n",
       "    </tr>\n",
       "    <tr>\n",
       "      <td>repsen16</td>\n",
       "      <td>repsen16</td>\n",
       "      <td>37.652733</td>\n",
       "    </tr>\n",
       "    <tr>\n",
       "      <td>othersen16</td>\n",
       "      <td>othersen16</td>\n",
       "      <td>37.652733</td>\n",
       "    </tr>\n",
       "    <tr>\n",
       "      <td>repgov14</td>\n",
       "      <td>repgov14</td>\n",
       "      <td>31.028939</td>\n",
       "    </tr>\n",
       "    <tr>\n",
       "      <td>othergov14</td>\n",
       "      <td>othergov14</td>\n",
       "      <td>31.028939</td>\n",
       "    </tr>\n",
       "    <tr>\n",
       "      <td>demgov14</td>\n",
       "      <td>demgov14</td>\n",
       "      <td>31.028939</td>\n",
       "    </tr>\n",
       "    <tr>\n",
       "      <td>otherhouse16</td>\n",
       "      <td>otherhouse16</td>\n",
       "      <td>8.070740</td>\n",
       "    </tr>\n",
       "    <tr>\n",
       "      <td>rephouse16</td>\n",
       "      <td>rephouse16</td>\n",
       "      <td>8.070740</td>\n",
       "    </tr>\n",
       "    <tr>\n",
       "      <td>demhouse16</td>\n",
       "      <td>demhouse16</td>\n",
       "      <td>8.070740</td>\n",
       "    </tr>\n",
       "    <tr>\n",
       "      <td>black_pct</td>\n",
       "      <td>black_pct</td>\n",
       "      <td>0.064309</td>\n",
       "    </tr>\n",
       "    <tr>\n",
       "      <td>female_pct</td>\n",
       "      <td>female_pct</td>\n",
       "      <td>0.064309</td>\n",
       "    </tr>\n",
       "    <tr>\n",
       "      <td>age29andunder_pct</td>\n",
       "      <td>age29andunder_pct</td>\n",
       "      <td>0.064309</td>\n",
       "    </tr>\n",
       "    <tr>\n",
       "      <td>foreignborn_pct</td>\n",
       "      <td>foreignborn_pct</td>\n",
       "      <td>0.064309</td>\n",
       "    </tr>\n",
       "    <tr>\n",
       "      <td>age65andolder_pct</td>\n",
       "      <td>age65andolder_pct</td>\n",
       "      <td>0.064309</td>\n",
       "    </tr>\n",
       "    <tr>\n",
       "      <td>median_hh_inc</td>\n",
       "      <td>median_hh_inc</td>\n",
       "      <td>0.064309</td>\n",
       "    </tr>\n",
       "    <tr>\n",
       "      <td>nonwhite_pct</td>\n",
       "      <td>nonwhite_pct</td>\n",
       "      <td>0.064309</td>\n",
       "    </tr>\n",
       "    <tr>\n",
       "      <td>hispanic_pct</td>\n",
       "      <td>hispanic_pct</td>\n",
       "      <td>0.064309</td>\n",
       "    </tr>\n",
       "    <tr>\n",
       "      <td>total_population</td>\n",
       "      <td>total_population</td>\n",
       "      <td>0.064309</td>\n",
       "    </tr>\n",
       "    <tr>\n",
       "      <td>white_pct</td>\n",
       "      <td>white_pct</td>\n",
       "      <td>0.064309</td>\n",
       "    </tr>\n",
       "    <tr>\n",
       "      <td>cvap</td>\n",
       "      <td>cvap</td>\n",
       "      <td>0.064309</td>\n",
       "    </tr>\n",
       "    <tr>\n",
       "      <td>lesscollege_pct</td>\n",
       "      <td>lesscollege_pct</td>\n",
       "      <td>0.064309</td>\n",
       "    </tr>\n",
       "    <tr>\n",
       "      <td>lesshs_pct</td>\n",
       "      <td>lesshs_pct</td>\n",
       "      <td>0.064309</td>\n",
       "    </tr>\n",
       "    <tr>\n",
       "      <td>lesshs_whites_pct</td>\n",
       "      <td>lesshs_whites_pct</td>\n",
       "      <td>0.064309</td>\n",
       "    </tr>\n",
       "    <tr>\n",
       "      <td>lesscollege_whites_pct</td>\n",
       "      <td>lesscollege_whites_pct</td>\n",
       "      <td>0.064309</td>\n",
       "    </tr>\n",
       "    <tr>\n",
       "      <td>clf_unemploy_pct</td>\n",
       "      <td>clf_unemploy_pct</td>\n",
       "      <td>0.064309</td>\n",
       "    </tr>\n",
       "    <tr>\n",
       "      <td>rural_pct</td>\n",
       "      <td>rural_pct</td>\n",
       "      <td>0.032154</td>\n",
       "    </tr>\n",
       "    <tr>\n",
       "      <td>ruralurban_cc</td>\n",
       "      <td>ruralurban_cc</td>\n",
       "      <td>0.032154</td>\n",
       "    </tr>\n",
       "    <tr>\n",
       "      <td>state</td>\n",
       "      <td>state</td>\n",
       "      <td>0.000000</td>\n",
       "    </tr>\n",
       "    <tr>\n",
       "      <td>county</td>\n",
       "      <td>county</td>\n",
       "      <td>0.000000</td>\n",
       "    </tr>\n",
       "    <tr>\n",
       "      <td>otherpres12</td>\n",
       "      <td>otherpres12</td>\n",
       "      <td>0.000000</td>\n",
       "    </tr>\n",
       "    <tr>\n",
       "      <td>obama12</td>\n",
       "      <td>obama12</td>\n",
       "      <td>0.000000</td>\n",
       "    </tr>\n",
       "    <tr>\n",
       "      <td>romney12</td>\n",
       "      <td>romney12</td>\n",
       "      <td>0.000000</td>\n",
       "    </tr>\n",
       "    <tr>\n",
       "      <td>fips</td>\n",
       "      <td>fips</td>\n",
       "      <td>0.000000</td>\n",
       "    </tr>\n",
       "    <tr>\n",
       "      <td>CandidateWon</td>\n",
       "      <td>CandidateWon</td>\n",
       "      <td>0.000000</td>\n",
       "    </tr>\n",
       "  </tbody>\n",
       "</table>\n",
       "</div>"
      ],
      "text/plain": [
       "                                   column_name  percent_missing\n",
       "othergov16                          othergov16        80.675241\n",
       "repgov16                              repgov16        80.675241\n",
       "demgov16                              demgov16        80.675241\n",
       "demsen16                              demsen16        37.652733\n",
       "repsen16                              repsen16        37.652733\n",
       "othersen16                          othersen16        37.652733\n",
       "repgov14                              repgov14        31.028939\n",
       "othergov14                          othergov14        31.028939\n",
       "demgov14                              demgov14        31.028939\n",
       "otherhouse16                      otherhouse16         8.070740\n",
       "rephouse16                          rephouse16         8.070740\n",
       "demhouse16                          demhouse16         8.070740\n",
       "black_pct                            black_pct         0.064309\n",
       "female_pct                          female_pct         0.064309\n",
       "age29andunder_pct            age29andunder_pct         0.064309\n",
       "foreignborn_pct                foreignborn_pct         0.064309\n",
       "age65andolder_pct            age65andolder_pct         0.064309\n",
       "median_hh_inc                    median_hh_inc         0.064309\n",
       "nonwhite_pct                      nonwhite_pct         0.064309\n",
       "hispanic_pct                      hispanic_pct         0.064309\n",
       "total_population              total_population         0.064309\n",
       "white_pct                            white_pct         0.064309\n",
       "cvap                                      cvap         0.064309\n",
       "lesscollege_pct                lesscollege_pct         0.064309\n",
       "lesshs_pct                          lesshs_pct         0.064309\n",
       "lesshs_whites_pct            lesshs_whites_pct         0.064309\n",
       "lesscollege_whites_pct  lesscollege_whites_pct         0.064309\n",
       "clf_unemploy_pct              clf_unemploy_pct         0.064309\n",
       "rural_pct                            rural_pct         0.032154\n",
       "ruralurban_cc                    ruralurban_cc         0.032154\n",
       "state                                    state         0.000000\n",
       "county                                  county         0.000000\n",
       "otherpres12                        otherpres12         0.000000\n",
       "obama12                                obama12         0.000000\n",
       "romney12                              romney12         0.000000\n",
       "fips                                      fips         0.000000\n",
       "CandidateWon                      CandidateWon         0.000000"
      ]
     },
     "execution_count": 757,
     "metadata": {},
     "output_type": "execute_result"
    }
   ],
   "source": [
    "#check the percentage of missing data\n",
    "percent_missing = election_data.isnull().sum()*100/len(election_data)\n",
    "missing_value_df = pd.DataFrame({'column_name': election_data.columns,'percent_missing': percent_missing})\n",
    "missing_value_df.sort_values(by=['percent_missing'], ascending=False)\n"
   ]
  },
  {
   "cell_type": "code",
   "execution_count": 758,
   "metadata": {},
   "outputs": [
    {
     "data": {
      "text/html": [
       "<div>\n",
       "<style scoped>\n",
       "    .dataframe tbody tr th:only-of-type {\n",
       "        vertical-align: middle;\n",
       "    }\n",
       "\n",
       "    .dataframe tbody tr th {\n",
       "        vertical-align: top;\n",
       "    }\n",
       "\n",
       "    .dataframe thead th {\n",
       "        text-align: right;\n",
       "    }\n",
       "</style>\n",
       "<table border=\"1\" class=\"dataframe\">\n",
       "  <thead>\n",
       "    <tr style=\"text-align: right;\">\n",
       "      <th></th>\n",
       "      <th>column_name</th>\n",
       "      <th>percent_missing</th>\n",
       "    </tr>\n",
       "  </thead>\n",
       "  <tbody>\n",
       "    <tr>\n",
       "      <td>othergov16</td>\n",
       "      <td>othergov16</td>\n",
       "      <td>True</td>\n",
       "    </tr>\n",
       "    <tr>\n",
       "      <td>demsen16</td>\n",
       "      <td>demsen16</td>\n",
       "      <td>True</td>\n",
       "    </tr>\n",
       "    <tr>\n",
       "      <td>repsen16</td>\n",
       "      <td>repsen16</td>\n",
       "      <td>True</td>\n",
       "    </tr>\n",
       "    <tr>\n",
       "      <td>othersen16</td>\n",
       "      <td>othersen16</td>\n",
       "      <td>True</td>\n",
       "    </tr>\n",
       "    <tr>\n",
       "      <td>othergov14</td>\n",
       "      <td>othergov14</td>\n",
       "      <td>True</td>\n",
       "    </tr>\n",
       "    <tr>\n",
       "      <td>demgov14</td>\n",
       "      <td>demgov14</td>\n",
       "      <td>True</td>\n",
       "    </tr>\n",
       "    <tr>\n",
       "      <td>repgov14</td>\n",
       "      <td>repgov14</td>\n",
       "      <td>True</td>\n",
       "    </tr>\n",
       "    <tr>\n",
       "      <td>demgov16</td>\n",
       "      <td>demgov16</td>\n",
       "      <td>True</td>\n",
       "    </tr>\n",
       "    <tr>\n",
       "      <td>repgov16</td>\n",
       "      <td>repgov16</td>\n",
       "      <td>True</td>\n",
       "    </tr>\n",
       "    <tr>\n",
       "      <td>state</td>\n",
       "      <td>state</td>\n",
       "      <td>False</td>\n",
       "    </tr>\n",
       "    <tr>\n",
       "      <td>female_pct</td>\n",
       "      <td>female_pct</td>\n",
       "      <td>False</td>\n",
       "    </tr>\n",
       "    <tr>\n",
       "      <td>age29andunder_pct</td>\n",
       "      <td>age29andunder_pct</td>\n",
       "      <td>False</td>\n",
       "    </tr>\n",
       "    <tr>\n",
       "      <td>age65andolder_pct</td>\n",
       "      <td>age65andolder_pct</td>\n",
       "      <td>False</td>\n",
       "    </tr>\n",
       "    <tr>\n",
       "      <td>median_hh_inc</td>\n",
       "      <td>median_hh_inc</td>\n",
       "      <td>False</td>\n",
       "    </tr>\n",
       "    <tr>\n",
       "      <td>clf_unemploy_pct</td>\n",
       "      <td>clf_unemploy_pct</td>\n",
       "      <td>False</td>\n",
       "    </tr>\n",
       "    <tr>\n",
       "      <td>nonwhite_pct</td>\n",
       "      <td>nonwhite_pct</td>\n",
       "      <td>False</td>\n",
       "    </tr>\n",
       "    <tr>\n",
       "      <td>lesshs_pct</td>\n",
       "      <td>lesshs_pct</td>\n",
       "      <td>False</td>\n",
       "    </tr>\n",
       "    <tr>\n",
       "      <td>lesscollege_pct</td>\n",
       "      <td>lesscollege_pct</td>\n",
       "      <td>False</td>\n",
       "    </tr>\n",
       "    <tr>\n",
       "      <td>lesshs_whites_pct</td>\n",
       "      <td>lesshs_whites_pct</td>\n",
       "      <td>False</td>\n",
       "    </tr>\n",
       "    <tr>\n",
       "      <td>lesscollege_whites_pct</td>\n",
       "      <td>lesscollege_whites_pct</td>\n",
       "      <td>False</td>\n",
       "    </tr>\n",
       "    <tr>\n",
       "      <td>rural_pct</td>\n",
       "      <td>rural_pct</td>\n",
       "      <td>False</td>\n",
       "    </tr>\n",
       "    <tr>\n",
       "      <td>ruralurban_cc</td>\n",
       "      <td>ruralurban_cc</td>\n",
       "      <td>False</td>\n",
       "    </tr>\n",
       "    <tr>\n",
       "      <td>foreignborn_pct</td>\n",
       "      <td>foreignborn_pct</td>\n",
       "      <td>False</td>\n",
       "    </tr>\n",
       "    <tr>\n",
       "      <td>total_population</td>\n",
       "      <td>total_population</td>\n",
       "      <td>False</td>\n",
       "    </tr>\n",
       "    <tr>\n",
       "      <td>hispanic_pct</td>\n",
       "      <td>hispanic_pct</td>\n",
       "      <td>False</td>\n",
       "    </tr>\n",
       "    <tr>\n",
       "      <td>black_pct</td>\n",
       "      <td>black_pct</td>\n",
       "      <td>False</td>\n",
       "    </tr>\n",
       "    <tr>\n",
       "      <td>white_pct</td>\n",
       "      <td>white_pct</td>\n",
       "      <td>False</td>\n",
       "    </tr>\n",
       "    <tr>\n",
       "      <td>cvap</td>\n",
       "      <td>cvap</td>\n",
       "      <td>False</td>\n",
       "    </tr>\n",
       "    <tr>\n",
       "      <td>county</td>\n",
       "      <td>county</td>\n",
       "      <td>False</td>\n",
       "    </tr>\n",
       "    <tr>\n",
       "      <td>otherhouse16</td>\n",
       "      <td>otherhouse16</td>\n",
       "      <td>False</td>\n",
       "    </tr>\n",
       "    <tr>\n",
       "      <td>rephouse16</td>\n",
       "      <td>rephouse16</td>\n",
       "      <td>False</td>\n",
       "    </tr>\n",
       "    <tr>\n",
       "      <td>demhouse16</td>\n",
       "      <td>demhouse16</td>\n",
       "      <td>False</td>\n",
       "    </tr>\n",
       "    <tr>\n",
       "      <td>otherpres12</td>\n",
       "      <td>otherpres12</td>\n",
       "      <td>False</td>\n",
       "    </tr>\n",
       "    <tr>\n",
       "      <td>obama12</td>\n",
       "      <td>obama12</td>\n",
       "      <td>False</td>\n",
       "    </tr>\n",
       "    <tr>\n",
       "      <td>romney12</td>\n",
       "      <td>romney12</td>\n",
       "      <td>False</td>\n",
       "    </tr>\n",
       "    <tr>\n",
       "      <td>fips</td>\n",
       "      <td>fips</td>\n",
       "      <td>False</td>\n",
       "    </tr>\n",
       "    <tr>\n",
       "      <td>CandidateWon</td>\n",
       "      <td>CandidateWon</td>\n",
       "      <td>False</td>\n",
       "    </tr>\n",
       "  </tbody>\n",
       "</table>\n",
       "</div>"
      ],
      "text/plain": [
       "                                   column_name  percent_missing\n",
       "othergov16                          othergov16             True\n",
       "demsen16                              demsen16             True\n",
       "repsen16                              repsen16             True\n",
       "othersen16                          othersen16             True\n",
       "othergov14                          othergov14             True\n",
       "demgov14                              demgov14             True\n",
       "repgov14                              repgov14             True\n",
       "demgov16                              demgov16             True\n",
       "repgov16                              repgov16             True\n",
       "state                                    state            False\n",
       "female_pct                          female_pct            False\n",
       "age29andunder_pct            age29andunder_pct            False\n",
       "age65andolder_pct            age65andolder_pct            False\n",
       "median_hh_inc                    median_hh_inc            False\n",
       "clf_unemploy_pct              clf_unemploy_pct            False\n",
       "nonwhite_pct                      nonwhite_pct            False\n",
       "lesshs_pct                          lesshs_pct            False\n",
       "lesscollege_pct                lesscollege_pct            False\n",
       "lesshs_whites_pct            lesshs_whites_pct            False\n",
       "lesscollege_whites_pct  lesscollege_whites_pct            False\n",
       "rural_pct                            rural_pct            False\n",
       "ruralurban_cc                    ruralurban_cc            False\n",
       "foreignborn_pct                foreignborn_pct            False\n",
       "total_population              total_population            False\n",
       "hispanic_pct                      hispanic_pct            False\n",
       "black_pct                            black_pct            False\n",
       "white_pct                            white_pct            False\n",
       "cvap                                      cvap            False\n",
       "county                                  county            False\n",
       "otherhouse16                      otherhouse16            False\n",
       "rephouse16                          rephouse16            False\n",
       "demhouse16                          demhouse16            False\n",
       "otherpres12                        otherpres12            False\n",
       "obama12                                obama12            False\n",
       "romney12                              romney12            False\n",
       "fips                                      fips            False\n",
       "CandidateWon                      CandidateWon            False"
      ]
     },
     "execution_count": 758,
     "metadata": {},
     "output_type": "execute_result"
    }
   ],
   "source": [
    "#check the percentage of missing data over 30%\n",
    "percent_missing = election_data.isnull().sum()*100/len(election_data)\n",
    "missing_value_df = pd.DataFrame({'column_name': election_data.columns,'percent_missing': percent_missing>30})\n",
    "missing_value_df.sort_values(by=['percent_missing'], ascending=False)\n"
   ]
  },
  {
   "cell_type": "code",
   "execution_count": 759,
   "metadata": {},
   "outputs": [
    {
     "name": "stdout",
     "output_type": "stream",
     "text": [
      "<class 'pandas.core.frame.DataFrame'>\n",
      "Int64Index: 3110 entries, 0 to 3113\n",
      "Data columns (total 28 columns):\n",
      "state                     3110 non-null object\n",
      "county                    3110 non-null object\n",
      "fips                      3110 non-null int64\n",
      "romney12                  3110 non-null int64\n",
      "obama12                   3110 non-null int64\n",
      "otherpres12               3110 non-null int64\n",
      "demhouse16                2859 non-null float64\n",
      "rephouse16                2859 non-null float64\n",
      "otherhouse16              2859 non-null float64\n",
      "total_population          3108 non-null float64\n",
      "cvap                      3108 non-null float64\n",
      "white_pct                 3108 non-null float64\n",
      "black_pct                 3108 non-null float64\n",
      "hispanic_pct              3108 non-null float64\n",
      "nonwhite_pct              3108 non-null float64\n",
      "foreignborn_pct           3108 non-null float64\n",
      "female_pct                3108 non-null float64\n",
      "age29andunder_pct         3108 non-null float64\n",
      "age65andolder_pct         3108 non-null float64\n",
      "median_hh_inc             3108 non-null float64\n",
      "clf_unemploy_pct          3108 non-null float64\n",
      "lesshs_pct                3108 non-null float64\n",
      "lesscollege_pct           3108 non-null float64\n",
      "lesshs_whites_pct         3108 non-null float64\n",
      "lesscollege_whites_pct    3108 non-null float64\n",
      "rural_pct                 3109 non-null float64\n",
      "ruralurban_cc             3109 non-null float64\n",
      "CandidateWon              3110 non-null object\n",
      "dtypes: float64(21), int64(4), object(3)\n",
      "memory usage: 704.6+ KB\n"
     ]
    }
   ],
   "source": [
    "#drop everything over 30% missing data\n",
    "missing_data = missing_value_df.values.tolist()\n",
    "for pair in missing_data:\n",
    "    if pair[1] == True:\n",
    "        election_data.drop([pair[0]], axis=1, inplace=True)\n",
    "        \n",
    "election_data.info()\n",
    "#dropped around 22 cols"
   ]
  },
  {
   "cell_type": "code",
   "execution_count": 760,
   "metadata": {},
   "outputs": [
    {
     "data": {
      "image/png": "[encoded data removed]",
      "text/plain": [
       "<Figure size 432x288 with 1 Axes>"
      ]
     },
     "metadata": {
      "needs_background": "light"
     },
     "output_type": "display_data"
    }
   ],
   "source": [
    "%matplotlib inline\n",
    "import matplotlib.pyplot as plt\n",
    "\n",
    "#determine missingness per row\n",
    "missing_values_per_row=election_data.isnull().sum(axis=1)\n",
    "missing_values_per_row.hist()\n",
    "plt.show()\n",
    "#seems like all the rows are missing very little data"
   ]
  },
  {
   "cell_type": "code",
   "execution_count": 761,
   "metadata": {},
   "outputs": [
    {
     "data": {
      "image/png": "[encoded data removed]",
      "text/plain": [
       "<Figure size 1440x1440 with 25 Axes>"
      ]
     },
     "metadata": {
      "needs_background": "light"
     },
     "output_type": "display_data"
    }
   ],
   "source": [
    "import matplotlib.pyplot as plt\n",
    "election_data.hist(figsize=(20,20))\n",
    "plt.show()\n",
    "#according to the graphs does not look like anything is missing any major data"
   ]
  },
  {
   "cell_type": "markdown",
   "metadata": {},
   "source": [
    "FIPS is a county code and in other words a categorical representation of every county in the U.S. It has a 100% unique rate because there is one code for every county in the U.S. so it won't contribute to our model and should be drop. "
   ]
  },
  {
   "cell_type": "markdown",
   "metadata": {},
   "source": [
    "Since FIPS is suppose to represent the counties, county itself has only about a 58% unique rate however that is probably due to counties having the same name in different states but they don't represent the same location. I will also drop county as well."
   ]
  },
  {
   "cell_type": "code",
   "execution_count": 762,
   "metadata": {
    "scrolled": true
   },
   "outputs": [
    {
     "name": "stdout",
     "output_type": "stream",
     "text": [
      "<class 'pandas.core.frame.DataFrame'>\n",
      "Int64Index: 3110 entries, 0 to 3113\n",
      "Data columns (total 26 columns):\n",
      "state                     3110 non-null object\n",
      "romney12                  3110 non-null int64\n",
      "obama12                   3110 non-null int64\n",
      "otherpres12               3110 non-null int64\n",
      "demhouse16                2859 non-null float64\n",
      "rephouse16                2859 non-null float64\n",
      "otherhouse16              2859 non-null float64\n",
      "total_population          3108 non-null float64\n",
      "cvap                      3108 non-null float64\n",
      "white_pct                 3108 non-null float64\n",
      "black_pct                 3108 non-null float64\n",
      "hispanic_pct              3108 non-null float64\n",
      "nonwhite_pct              3108 non-null float64\n",
      "foreignborn_pct           3108 non-null float64\n",
      "female_pct                3108 non-null float64\n",
      "age29andunder_pct         3108 non-null float64\n",
      "age65andolder_pct         3108 non-null float64\n",
      "median_hh_inc             3108 non-null float64\n",
      "clf_unemploy_pct          3108 non-null float64\n",
      "lesshs_pct                3108 non-null float64\n",
      "lesscollege_pct           3108 non-null float64\n",
      "lesshs_whites_pct         3108 non-null float64\n",
      "lesscollege_whites_pct    3108 non-null float64\n",
      "rural_pct                 3109 non-null float64\n",
      "ruralurban_cc             3109 non-null float64\n",
      "CandidateWon              3110 non-null object\n",
      "dtypes: float64(21), int64(3), object(2)\n",
      "memory usage: 656.0+ KB\n"
     ]
    }
   ],
   "source": [
    "election_data.drop(['fips'], axis=1, inplace=True)\n",
    "election_data.drop(['county'], axis=1, inplace=True)\n",
    "election_data.info()"
   ]
  },
  {
   "cell_type": "code",
   "execution_count": 763,
   "metadata": {},
   "outputs": [
    {
     "name": "stdout",
     "output_type": "stream",
     "text": [
      "Number of features before State OHC: 25\n"
     ]
    }
   ],
   "source": [
    "from sklearn.impute import SimpleImputer\n",
    "from sklearn.model_selection import StratifiedShuffleSplit\n",
    "from sklearn.preprocessing import OneHotEncoder\n",
    "from sklearn.preprocessing import OrdinalEncoder\n",
    "\n",
    "imp_median = SimpleImputer(missing_values=np.nan, strategy='median')\n",
    "oh_encoder = OneHotEncoder(sparse=False)\n",
    "label_encoder = OrdinalEncoder()\n",
    "\n",
    "#seperate out target\n",
    "Y_data = election_data[['CandidateWon']]\n",
    "Y_data = Y_data.to_numpy()\n",
    "Y_data_enc = label_encoder.fit_transform(Y_data)\n",
    "\n",
    "X_data = election_data.drop(['CandidateWon'], axis=1)\n",
    "print(\"Number of features before State OHC: {}\".format(len(X_data.columns)))\n",
    "one_hot = pd.get_dummies(X_data.state, prefix='State')\n",
    "X_data.drop('state', axis=1, inplace=True)\n",
    "X_data = X_data.join(one_hot)\n",
    "cols = X_data.columns\n",
    "X_data_before = X_data.copy()\n",
    "X_data = X_data.to_numpy()\n"
   ]
  },
  {
   "cell_type": "code",
   "execution_count": 764,
   "metadata": {},
   "outputs": [
    {
     "data": {
      "text/plain": [
       "[array(['Clinton', 'Trump'], dtype=object)]"
      ]
     },
     "execution_count": 764,
     "metadata": {},
     "output_type": "execute_result"
    }
   ],
   "source": [
    "label_encoder.categories_"
   ]
  },
  {
   "cell_type": "code",
   "execution_count": 765,
   "metadata": {},
   "outputs": [],
   "source": [
    "#shuffle split\n",
    "split_test = StratifiedShuffleSplit(n_splits=1,test_size=0.2, random_state=24109948)\n",
    "for train_index, test_index in split_test.split(X_data,Y_data_enc):\n",
    "    X_train_full = X_data[train_index,:]\n",
    "    X_test = X_data[test_index,:]\n",
    "    Y_train_full = Y_data_enc[train_index]\n",
    "    Y_test = Y_data_enc[test_index]\n",
    "    \n",
    "split_validation = StratifiedShuffleSplit(n_splits=1,test_size=0.25, random_state=24109948)\n",
    "for train_index, validation_index in split_validation.split(X_train_full, Y_train_full):\n",
    "    X_train = X_train_full[train_index,:]\n",
    "    X_validation = X_train_full[validation_index,:]\n",
    "    Y_train = Y_train_full[train_index]\n",
    "    Y_validation = Y_train_full[validation_index]\n",
    "    \n",
    "#reshape labels for sklearn\n",
    "Y_train_full =  Y_train_full.reshape((Y_train_full.shape[0],))\n",
    "Y_train = Y_train.reshape((Y_train.shape[0],))\n",
    "Y_validation= Y_validation.reshape((Y_validation.shape[0],))\n",
    "Y_test = Y_test.reshape((Y_test.shape[0],))"
   ]
  },
  {
   "cell_type": "markdown",
   "metadata": {},
   "source": [
    "#shuffle split\n",
    "split_test = ShuffleSplit(n_splits=1,test_size=0.2)\n",
    "for train_index, test_index in split_test.split(X_data,Y_data):\n",
    "    X_train_full = X_data.iloc[train_index,:]\n",
    "    X_test = X_data.iloc[test_index,:]\n",
    "    Y_train_full = Y_data.iloc[train_index]\n",
    "    Y_test = Y_data.iloc[test_index]\n",
    "    \n",
    "split_validation = ShuffleSplit(n_splits=1,test_size=0.25)\n",
    "for train_index, validation_index in split_validation.split(X_train_full, Y_train_full):\n",
    "    X_train = X_train_full.iloc[train_index,:]\n",
    "    X_validation = X_train_full.iloc[validation_index,:]\n",
    "    Y_train = Y_train_full.iloc[train_index]\n",
    "    Y_validation = Y_train_full.iloc[validation_index]"
   ]
  },
  {
   "cell_type": "code",
   "execution_count": 766,
   "metadata": {},
   "outputs": [
    {
     "name": "stdout",
     "output_type": "stream",
     "text": [
      "Dataset\t\tPercent\n",
      "Training\t0.842443729903537\n",
      "Validation\t0.842443729903537\n",
      "Test\t\t0.842443729903537\n"
     ]
    }
   ],
   "source": [
    "#Checking to see if they have the same prevalance\n",
    "print(\"Dataset\\t\\tPercent\")\n",
    "print(\"Training\\t\"+str(np.sum(Y_train)/len(Y_train)))\n",
    "print(\"Validation\\t\"+str(np.sum(Y_validation)/len(Y_validation)))\n",
    "print(\"Test\\t\\t\"+str(np.sum(Y_test)/len(Y_test)))"
   ]
  },
  {
   "cell_type": "code",
   "execution_count": 767,
   "metadata": {},
   "outputs": [],
   "source": [
    "#okay to impute the whole data set as the categorical data does not have missing values\n",
    "X_train = imp_median.fit_transform(X_train)\n",
    "X_validation = imp_median.transform(X_validation)\n",
    "X_test = imp_median.transform(X_test)\n",
    "X_train_full = imp_median.transform(X_train_full)\n",
    "#X_train_full = np.concatenate((X_train, X_validation), axis=0)\n"
   ]
  },
  {
   "cell_type": "code",
   "execution_count": 768,
   "metadata": {},
   "outputs": [
    {
     "data": {
      "text/html": [
       "<div>\n",
       "<style scoped>\n",
       "    .dataframe tbody tr th:only-of-type {\n",
       "        vertical-align: middle;\n",
       "    }\n",
       "\n",
       "    .dataframe tbody tr th {\n",
       "        vertical-align: top;\n",
       "    }\n",
       "\n",
       "    .dataframe thead th {\n",
       "        text-align: right;\n",
       "    }\n",
       "</style>\n",
       "<table border=\"1\" class=\"dataframe\">\n",
       "  <thead>\n",
       "    <tr style=\"text-align: right;\">\n",
       "      <th></th>\n",
       "      <th>column_name</th>\n",
       "      <th>percent_missing</th>\n",
       "    </tr>\n",
       "  </thead>\n",
       "  <tbody>\n",
       "    <tr>\n",
       "      <td>romney12</td>\n",
       "      <td>romney12</td>\n",
       "      <td>False</td>\n",
       "    </tr>\n",
       "    <tr>\n",
       "      <td>State_New York</td>\n",
       "      <td>State_New York</td>\n",
       "      <td>False</td>\n",
       "    </tr>\n",
       "    <tr>\n",
       "      <td>State_New Jersey</td>\n",
       "      <td>State_New Jersey</td>\n",
       "      <td>False</td>\n",
       "    </tr>\n",
       "    <tr>\n",
       "      <td>State_New Hampshire</td>\n",
       "      <td>State_New Hampshire</td>\n",
       "      <td>False</td>\n",
       "    </tr>\n",
       "    <tr>\n",
       "      <td>State_Nevada</td>\n",
       "      <td>State_Nevada</td>\n",
       "      <td>False</td>\n",
       "    </tr>\n",
       "    <tr>\n",
       "      <td>...</td>\n",
       "      <td>...</td>\n",
       "      <td>...</td>\n",
       "    </tr>\n",
       "    <tr>\n",
       "      <td>State_Alabama</td>\n",
       "      <td>State_Alabama</td>\n",
       "      <td>False</td>\n",
       "    </tr>\n",
       "    <tr>\n",
       "      <td>ruralurban_cc</td>\n",
       "      <td>ruralurban_cc</td>\n",
       "      <td>False</td>\n",
       "    </tr>\n",
       "    <tr>\n",
       "      <td>rural_pct</td>\n",
       "      <td>rural_pct</td>\n",
       "      <td>False</td>\n",
       "    </tr>\n",
       "    <tr>\n",
       "      <td>lesscollege_whites_pct</td>\n",
       "      <td>lesscollege_whites_pct</td>\n",
       "      <td>False</td>\n",
       "    </tr>\n",
       "    <tr>\n",
       "      <td>State_Wyoming</td>\n",
       "      <td>State_Wyoming</td>\n",
       "      <td>False</td>\n",
       "    </tr>\n",
       "  </tbody>\n",
       "</table>\n",
       "<p>74 rows × 2 columns</p>\n",
       "</div>"
      ],
      "text/plain": [
       "                                   column_name  percent_missing\n",
       "romney12                              romney12            False\n",
       "State_New York                  State_New York            False\n",
       "State_New Jersey              State_New Jersey            False\n",
       "State_New Hampshire        State_New Hampshire            False\n",
       "State_Nevada                      State_Nevada            False\n",
       "...                                        ...              ...\n",
       "State_Alabama                    State_Alabama            False\n",
       "ruralurban_cc                    ruralurban_cc            False\n",
       "rural_pct                            rural_pct            False\n",
       "lesscollege_whites_pct  lesscollege_whites_pct            False\n",
       "State_Wyoming                    State_Wyoming            False\n",
       "\n",
       "[74 rows x 2 columns]"
      ]
     },
     "execution_count": 768,
     "metadata": {},
     "output_type": "execute_result"
    }
   ],
   "source": [
    "#no more missing values\n",
    "percent_missing = pd.DataFrame(X_train_full, columns = cols).isnull().sum()*100/len(X_train_full)\n",
    "missing_value_df = pd.DataFrame({'column_name': cols,'percent_missing': percent_missing>0})\n",
    "missing_value_df.sort_values(by=['percent_missing'], ascending=False)"
   ]
  },
  {
   "cell_type": "markdown",
   "metadata": {},
   "source": [
    "#no more missing values\n",
    "percent_missing = pd.DataFrame(X_train_full, columns = X_data.columns).isnull().sum()*100/len(X_train_full)\n",
    "missing_value_df = pd.DataFrame({'column_name': X_data.columns,'percent_missing': percent_missing>0})\n",
    "missing_value_df.sort_values(by=['percent_missing'], ascending=False)\n"
   ]
  },
  {
   "cell_type": "code",
   "execution_count": 769,
   "metadata": {},
   "outputs": [],
   "source": [
    "#k-folds\n",
    "from sklearn.model_selection import StratifiedKFold\n",
    "skf = StratifiedKFold(n_splits=5)"
   ]
  },
  {
   "cell_type": "code",
   "execution_count": 770,
   "metadata": {},
   "outputs": [],
   "source": [
    "#standardize\n",
    "from sklearn.preprocessing import StandardScaler\n",
    "svm_scaler = StandardScaler()\n",
    "X_train_scaled=svm_scaler.fit_transform(X_train)\n",
    "X_validation_scaled=svm_scaler.transform(X_validation)\n",
    "X_test_scaled=svm_scaler.transform(X_test)\n",
    "X_train_full_scaled=svm_scaler.transform(X_train_full)"
   ]
  },
  {
   "cell_type": "markdown",
   "metadata": {},
   "source": [
    "MODELING\n"
   ]
  },
  {
   "cell_type": "code",
   "execution_count": 771,
   "metadata": {},
   "outputs": [],
   "source": [
    "#peformance metric functions\n",
    "from sklearn.metrics import confusion_matrix, roc_auc_score, f1_score\n",
    "import numpy as np\n",
    "\n",
    "#A list of keys for the dictionary returned by p1_metrics\n",
    "metric_keys = ['auc','f1','accuracy','sensitivity','specificity', 'precision']\n",
    "\n",
    "def p1_metrics(y_true,y_pred,include_cm=True):\n",
    "    cm = confusion_matrix(y_true,y_pred)\n",
    "    tn, fp, fn, tp = cm.ravel()\n",
    "    \n",
    "    if include_cm:\n",
    "        return {\n",
    "            'auc': roc_auc_score(y_true,y_pred),\n",
    "            'f1': f1_score(y_true,y_pred),\n",
    "            'accuracy': (tp+tn)/np.sum(cm),\n",
    "            'sensitivity': tp/(tp+fn),\n",
    "            'specificity': tn/(tn+fp),\n",
    "            'precision': tp/(tp+fp),\n",
    "            'confusion_matrix': cm}\n",
    "    else:\n",
    "        return {\n",
    "            'auc': roc_auc_score(y_true,y_pred),\n",
    "            'f1': f1_score(y_true,y_pred),\n",
    "            'accuracy': (tp+tn)/np.sum(cm),\n",
    "            'sensitivity': tp/(tp+fn),\n",
    "            'specificity': tn/(tn+fp),\n",
    "            'precision': tp/(tp+fp)}\n",
    "\n",
    "#This wrapper can be used to return multiple performance metrics during cross-validation\n",
    "def p1_metrics_scorer(clf,X,y_true):\n",
    "    y_pred=clf.predict(X)\n",
    "    return p1_metrics(y_true,y_pred,include_cm=False)"
   ]
  },
  {
   "cell_type": "markdown",
   "metadata": {},
   "source": [
    "## Naive Bayes"
   ]
  },
  {
   "cell_type": "code",
   "execution_count": 772,
   "metadata": {},
   "outputs": [
    {
     "name": "stdout",
     "output_type": "stream",
     "text": [
      "NB Training Metrics\n",
      "auc: 0.6812652541932804\n",
      "f1: 0.9316656497864552\n",
      "accuracy: 0.879957127545552\n",
      "sensitivity: 0.9713740458015268\n",
      "specificity: 0.391156462585034\n",
      "precision: 0.8950762016412661\n",
      "confusion_matrix: [[ 115  179]\n",
      " [  45 1527]]\n"
     ]
    }
   ],
   "source": [
    "from sklearn.naive_bayes import GaussianNB\n",
    "gnb = GaussianNB()\n",
    "gnb.fit(X_train,Y_train)\n",
    "gnb_y_pred=gnb.predict(X_train)\n",
    "gnb_metrics = p1_metrics(Y_train, gnb_y_pred)\n",
    "print(\"NB Training Metrics\")\n",
    "for metric in gnb_metrics:\n",
    "    print(metric+\":\",gnb_metrics[metric])\n"
   ]
  },
  {
   "cell_type": "markdown",
   "metadata": {},
   "source": [
    "## SVM"
   ]
  },
  {
   "cell_type": "code",
   "execution_count": 773,
   "metadata": {},
   "outputs": [
    {
     "name": "stdout",
     "output_type": "stream",
     "text": [
      "SVM Training Metrics\n",
      "auc: 0.8851132055875786\n",
      "f1: 0.9739730322985262\n",
      "accuracy: 0.9555198285101822\n",
      "sensitivity: 0.9879134860050891\n",
      "specificity: 0.782312925170068\n",
      "precision: 0.9604205318491033\n",
      "confusion_matrix: [[ 230   64]\n",
      " [  19 1553]]\n"
     ]
    }
   ],
   "source": [
    "from sklearn.svm import SVC\n",
    "svmc = SVC()\n",
    "svmc.fit(X_train_scaled,Y_train)\n",
    "svmc_y_pred=svmc.predict(X_train_scaled)\n",
    "svmc_metrics= p1_metrics(Y_train, svmc_y_pred)\n",
    "print(\"SVM Training Metrics\")\n",
    "for metric in svmc_metrics:\n",
    "    print(metric+\":\",svmc_metrics[metric])"
   ]
  },
  {
   "cell_type": "markdown",
   "metadata": {},
   "source": [
    "## Random Forest"
   ]
  },
  {
   "cell_type": "code",
   "execution_count": 774,
   "metadata": {},
   "outputs": [
    {
     "name": "stdout",
     "output_type": "stream",
     "text": [
      "Random Forest Training Metrics\n",
      "auc: 1.0\n",
      "f1: 1.0\n",
      "accuracy: 1.0\n",
      "sensitivity: 1.0\n",
      "specificity: 1.0\n",
      "precision: 1.0\n",
      "confusion_matrix: [[ 294    0]\n",
      " [   0 1572]]\n"
     ]
    }
   ],
   "source": [
    "from sklearn.ensemble import RandomForestClassifier\n",
    "rf = RandomForestClassifier()\n",
    "rf.fit(X_train,Y_train)\n",
    "rf_y_pred=rf.predict(X_train)\n",
    "rf_metrics = p1_metrics(Y_train, rf_y_pred)\n",
    "print(\"Random Forest Training Metrics\")\n",
    "for metric in rf_metrics:\n",
    "    print(metric+\":\",rf_metrics[metric])"
   ]
  },
  {
   "cell_type": "markdown",
   "metadata": {},
   "source": [
    "## Logistic Regression"
   ]
  },
  {
   "cell_type": "code",
   "execution_count": 775,
   "metadata": {},
   "outputs": [
    {
     "name": "stdout",
     "output_type": "stream",
     "text": [
      "Logistic Regression Training Metrics\n",
      "auc: 0.8971283169756452\n",
      "f1: 0.9748110831234257\n",
      "accuracy: 0.9571275455519829\n",
      "sensitivity: 0.9847328244274809\n",
      "specificity: 0.8095238095238095\n",
      "precision: 0.9650872817955112\n",
      "confusion_matrix: [[ 238   56]\n",
      " [  24 1548]]\n"
     ]
    }
   ],
   "source": [
    "from sklearn.linear_model import LogisticRegression\n",
    "lr = LogisticRegression(max_iter=10000)\n",
    "lr.fit(X_train,Y_train)\n",
    "lr_y_pred = lr.predict(X_train)\n",
    "lr_metrics = p1_metrics(Y_train, lr_y_pred)\n",
    "print(\"Logistic Regression Training Metrics\")\n",
    "for metric in lr_metrics:\n",
    "    print(metric+\":\",lr_metrics[metric])"
   ]
  },
  {
   "cell_type": "markdown",
   "metadata": {},
   "source": [
    "## K-Nearest Neighbors"
   ]
  },
  {
   "cell_type": "code",
   "execution_count": 776,
   "metadata": {},
   "outputs": [
    {
     "name": "stdout",
     "output_type": "stream",
     "text": [
      "KNN Training Metrics\n",
      "auc: 0.8667237887521421\n",
      "f1: 0.970946579194002\n",
      "accuracy: 0.9501607717041801\n",
      "sensitivity: 0.9885496183206107\n",
      "specificity: 0.7448979591836735\n",
      "precision: 0.9539594843462247\n",
      "confusion_matrix: [[ 219   75]\n",
      " [  18 1554]]\n"
     ]
    }
   ],
   "source": [
    "from sklearn.neighbors import KNeighborsClassifier \n",
    "knn = KNeighborsClassifier(n_neighbors=3)\n",
    "knn.fit(X_train, Y_train)\n",
    "knn_y_pred = knn.predict(X_train)\n",
    "knn_metrics = p1_metrics(Y_train, knn_y_pred)\n",
    "print(\"KNN Training Metrics\")\n",
    "for metric in knn_metrics:\n",
    "    print(metric+\":\",knn_metrics[metric])"
   ]
  },
  {
   "cell_type": "markdown",
   "metadata": {},
   "source": [
    "## Validation set on Models"
   ]
  },
  {
   "cell_type": "code",
   "execution_count": 777,
   "metadata": {},
   "outputs": [
    {
     "name": "stdout",
     "output_type": "stream",
     "text": [
      "NB Validation Metrics\n",
      "auc: 0.6601106091291479\n",
      "f1: 0.9289617486338797\n",
      "accuracy: 0.8745980707395499\n",
      "sensitivity: 0.9732824427480916\n",
      "specificity: 0.3469387755102041\n",
      "precision: 0.8885017421602788\n",
      "confusion_matrix: [[ 34  64]\n",
      " [ 14 510]]\n",
      "SVM Validation Metrics\n",
      "auc: 0.876927870384795\n",
      "f1: 0.9727699530516433\n",
      "accuracy: 0.9533762057877814\n",
      "sensitivity: 0.9885496183206107\n",
      "specificity: 0.7653061224489796\n",
      "precision: 0.9574861367837338\n",
      "confusion_matrix: [[ 75  23]\n",
      " [  6 518]]\n",
      "Random Forest Validation Metrics\n",
      "auc: 0.8922339928337747\n",
      "f1: 0.975517890772128\n",
      "accuracy: 0.9581993569131833\n",
      "sensitivity: 0.9885496183206107\n",
      "specificity: 0.7959183673469388\n",
      "precision: 0.9628252788104089\n",
      "confusion_matrix: [[ 78  20]\n",
      " [  6 518]]\n",
      "Logistic Regression Training Metrics\n",
      "auc: 0.925085683128213\n",
      "f1: 0.9790874524714829\n",
      "accuracy: 0.9646302250803859\n",
      "sensitivity: 0.982824427480916\n",
      "specificity: 0.8673469387755102\n",
      "precision: 0.9753787878787878\n",
      "confusion_matrix: [[ 85  13]\n",
      " [  9 515]]\n",
      "KNN Training Metrics\n",
      "auc: 0.7978657111699643\n",
      "f1: 0.9523809523809523\n",
      "accuracy: 0.9180064308681672\n",
      "sensitivity: 0.9732824427480916\n",
      "specificity: 0.6224489795918368\n",
      "precision: 0.9323583180987203\n",
      "confusion_matrix: [[ 61  37]\n",
      " [ 14 510]]\n"
     ]
    }
   ],
   "source": [
    "gnb_y_pred=gnb.predict(X_validation)\n",
    "gnb_metrics = p1_metrics(Y_validation, gnb_y_pred)\n",
    "print(\"NB Validation Metrics\")\n",
    "for metric in gnb_metrics:\n",
    "    print(metric+\":\",gnb_metrics[metric])\n",
    "svmc_y_pred=svmc.predict(X_validation_scaled)\n",
    "svmc_metrics= p1_metrics(Y_validation, svmc_y_pred)\n",
    "print(\"SVM Validation Metrics\")\n",
    "for metric in svmc_metrics:\n",
    "    print(metric+\":\",svmc_metrics[metric])\n",
    "rf_y_pred=rf.predict(X_validation)\n",
    "rf_metrics = p1_metrics(Y_validation, rf_y_pred)\n",
    "print(\"Random Forest Validation Metrics\")\n",
    "for metric in rf_metrics:\n",
    "    print(metric+\":\",rf_metrics[metric])\n",
    "lr_y_pred = lr.predict(X_validation)\n",
    "lr_metrics = p1_metrics(Y_validation, lr_y_pred)\n",
    "print(\"Logistic Regression Training Metrics\")\n",
    "for metric in lr_metrics:\n",
    "    print(metric+\":\",lr_metrics[metric])\n",
    "knn_y_pred = knn.predict(X_validation)\n",
    "knn_metrics = p1_metrics(Y_validation, knn_y_pred)\n",
    "print(\"KNN Training Metrics\")\n",
    "for metric in knn_metrics:\n",
    "    print(metric+\":\",knn_metrics[metric])"
   ]
  },
  {
   "cell_type": "code",
   "execution_count": null,
   "metadata": {},
   "outputs": [],
   "source": []
  },
  {
   "cell_type": "markdown",
   "metadata": {},
   "source": [
    "## Cross Validation"
   ]
  },
  {
   "cell_type": "code",
   "execution_count": 778,
   "metadata": {},
   "outputs": [],
   "source": [
    "#Summarizes model performance results produced during cross-validation\n",
    "def collate_cv_results(cv_results,display=True):\n",
    "    cv_stats=dict()\n",
    "    for k in cv_results:\n",
    "        cv_stats[k+\"_mean\"]=np.mean(cv_results[k])\n",
    "        cv_stats[k+\"_std\"]=np.std(cv_results[k])\n",
    "        if display:\n",
    "            print(k,cv_stats[k+\"_mean\"],\"(\"+str(cv_stats[k+\"_std\"])+\")\")\n",
    "    return cv_stats"
   ]
  },
  {
   "cell_type": "code",
   "execution_count": 779,
   "metadata": {},
   "outputs": [
    {
     "name": "stdout",
     "output_type": "stream",
     "text": [
      "fit_time 0.0037999629974365236 (0.0007476410897885228)\n",
      "score_time 0.002399110794067383 (0.0004898631373585297)\n",
      "test_auc 0.6941969654868057 (0.02454120459348852)\n",
      "test_f1 0.9322060101940368 (0.003603111944141537)\n",
      "test_accuracy 0.881425096765331 (0.0067099464188460885)\n",
      "test_sensitivity 0.9675565405159677 (0.006685808057978901)\n",
      "test_specificity 0.4208373904576437 (0.05242195485058093)\n",
      "test_precision 0.8994271170843595 (0.007624529889287494)\n"
     ]
    }
   ],
   "source": [
    "from sklearn.model_selection import cross_validate\n",
    "gnb_cv = GaussianNB()\n",
    "gnb_cv_results = cross_validate(gnb_cv, X_train_full, Y_train_full, cv=skf, scoring=p1_metrics_scorer)\n",
    "#summarize each metric\n",
    "gnb_cv_stats=collate_cv_results(gnb_cv_results)"
   ]
  },
  {
   "cell_type": "code",
   "execution_count": 780,
   "metadata": {},
   "outputs": [
    {
     "name": "stdout",
     "output_type": "stream",
     "text": [
      "fit_time 0.10479984283447266 (0.019505910447364667)\n",
      "score_time 0.03919973373413086 (0.0068807466983332385)\n",
      "test_auc 0.844908242317082 (0.022984588479080217)\n",
      "test_f1 0.9636422788344111 (0.007175029602298011)\n",
      "test_accuracy 0.9376984800368475 (0.012143221529663474)\n",
      "test_sensitivity 0.9804364132287761 (0.0106125051056846)\n",
      "test_specificity 0.709380071405388 (0.04300685269188763)\n",
      "test_precision 0.9474815130489966 (0.007667871096657542)\n"
     ]
    }
   ],
   "source": [
    "svm_cv = SVC(random_state=24109948)\n",
    "svm_cv_results = cross_validate(svm_cv, X_train_full_scaled, Y_train_full, cv=skf, scoring=p1_metrics_scorer,n_jobs=-1)\n",
    "#summarize each metric\n",
    "svm_cv_stats=collate_cv_results(svm_cv_results)"
   ]
  },
  {
   "cell_type": "code",
   "execution_count": 781,
   "metadata": {},
   "outputs": [
    {
     "name": "stdout",
     "output_type": "stream",
     "text": [
      "fit_time 0.3617990016937256 (0.03324703316145685)\n",
      "score_time 0.014000892639160156 (0.001414752022401494)\n",
      "test_auc 0.8788208057412914 (0.006824364828819283)\n",
      "test_f1 0.96927879814777 (0.004150292406742639)\n",
      "test_accuracy 0.9477475293528238 (0.0066248175443763095)\n",
      "test_sensitivity 0.9794851687691783 (0.011941916820836855)\n",
      "test_specificity 0.7781564427134047 (0.0241079228882959)\n",
      "test_precision 0.9594063161697257 (0.004012409939680436)\n"
     ]
    }
   ],
   "source": [
    "rf_cv = RandomForestClassifier(random_state=24109948)\n",
    "rf_cv_results = cross_validate(rf_cv, X_train_full, Y_train_full, cv=skf, scoring=p1_metrics_scorer)\n",
    "#summarize each metric\n",
    "rf_cv_stats=collate_cv_results(rf_cv_results)\n",
    "#print(rf_cv_results)"
   ]
  },
  {
   "cell_type": "code",
   "execution_count": 782,
   "metadata": {},
   "outputs": [
    {
     "name": "stdout",
     "output_type": "stream",
     "text": [
      "fit_time 3.114640998840332 (0.9982248088735924)\n",
      "score_time 0.003007793426513672 (0.0006236562033252587)\n",
      "test_auc 0.9070963212492169 (0.023100107382254664)\n",
      "test_f1 0.9768363697467219 (0.0038366269160691707)\n",
      "test_accuracy 0.9606078236487197 (0.0066979060160645395)\n",
      "test_sensitivity 0.9852085464257303 (0.004110099085646219)\n",
      "test_specificity 0.8289840960727037 (0.047841477748720204)\n",
      "test_precision 0.9686652232588147 (0.008416244769605423)\n"
     ]
    }
   ],
   "source": [
    "lr_cv = LogisticRegression(max_iter=10000)\n",
    "lr_cv_results = cross_validate(lr_cv, X_train_full, Y_train_full, cv=skf, scoring=p1_metrics_scorer)\n",
    "#summarize each metric\n",
    "lr_cv_stats=collate_cv_results(lr_cv_results)\n",
    "#print(rf_cv_results)"
   ]
  },
  {
   "cell_type": "code",
   "execution_count": 783,
   "metadata": {},
   "outputs": [
    {
     "name": "stdout",
     "output_type": "stream",
     "text": [
      "fit_time 0.0016004085540771485 (0.0004893180059044131)\n",
      "score_time 0.0380000114440918 (0.003344702436399722)\n",
      "test_auc 0.783381194950785 (0.015464448506523284)\n",
      "test_f1 0.9484455324986619 (0.001445819785966833)\n",
      "test_accuracy 0.9111722544099943 (0.0023941322554268773)\n",
      "test_sensitivity 0.9699431753608365 (0.006848935502398678)\n",
      "test_specificity 0.5968192145407335 (0.03704800645965352)\n",
      "test_precision 0.9279518414919827 (0.005434370600208307)\n"
     ]
    }
   ],
   "source": [
    "knn_cv = KNeighborsClassifier(n_neighbors=3)\n",
    "knn_cv_results = cross_validate(knn_cv, X_train_full, Y_train_full, cv=skf, scoring=p1_metrics_scorer)\n",
    "#summarize each metric\n",
    "knn_cv_stats=collate_cv_results(knn_cv_results)\n",
    "#print(rf_cv_results)"
   ]
  },
  {
   "cell_type": "markdown",
   "metadata": {},
   "source": [
    "## SVM Hyperparameter Tuning"
   ]
  },
  {
   "cell_type": "code",
   "execution_count": 784,
   "metadata": {},
   "outputs": [],
   "source": [
    "#Summarizes model performance results produced during hyperparameter tuning\n",
    "def collate_ht_results(ht_results,metric_keys=metric_keys,display=True):\n",
    "    ht_stats=dict()\n",
    "    for metric in metric_keys:\n",
    "        ht_stats[metric+\"_mean\"] = ht_results.cv_results_[\"mean_test_\"+metric][ht_results.best_index_]\n",
    "        ht_stats[metric+\"_std\"] = metric_std = ht_results.cv_results_[\"std_test_\"+metric][ht_results.best_index_]\n",
    "        if display:\n",
    "            print(\"test_\"+metric,ht_stats[metric+\"_mean\"],\"(\"+str(ht_stats[metric+\"_std\"])+\")\")\n",
    "    return ht_stats"
   ]
  },
  {
   "cell_type": "code",
   "execution_count": 785,
   "metadata": {},
   "outputs": [],
   "source": [
    "from sklearn.model_selection import RandomizedSearchCV\n",
    "import time\n",
    "svm_rs_params={'kernel':('linear', 'rbf'), 'C':[1]+list(range(5,101,5)), 'gamma':('auto','scale')}\n",
    "rs = RandomizedSearchCV(\n",
    "    SVC(),\n",
    "    svm_rs_params,\n",
    "    n_iter=16,\n",
    "    scoring=p1_metrics_scorer,\n",
    "    refit='auc',\n",
    "    cv=skf,\n",
    "    n_jobs=-1,\n",
    "    return_train_score=False,\n",
    "    random_state=24109948)\n",
    "svm_rs_start = time.time()\n",
    "svm_rs=rs.fit(X_train_full_scaled,Y_train_full)\n",
    "svm_rs_end = time.time()"
   ]
  },
  {
   "cell_type": "code",
   "execution_count": 786,
   "metadata": {},
   "outputs": [
    {
     "name": "stdout",
     "output_type": "stream",
     "text": [
      "Total RandomizedSearchCV Time (min): 0.4798031528790792\n"
     ]
    }
   ],
   "source": [
    "print(\"Total RandomizedSearchCV Time (min):\",(svm_rs_end-svm_rs_start)/60)"
   ]
  },
  {
   "cell_type": "code",
   "execution_count": 787,
   "metadata": {},
   "outputs": [
    {
     "data": {
      "text/plain": [
       "{'kernel': 'linear', 'gamma': 'auto', 'C': 60}"
      ]
     },
     "execution_count": 787,
     "metadata": {},
     "output_type": "execute_result"
    }
   ],
   "source": [
    "svm_rs.cv_results_['params'][svm_rs.best_index_]"
   ]
  },
  {
   "cell_type": "code",
   "execution_count": 788,
   "metadata": {},
   "outputs": [
    {
     "name": "stdout",
     "output_type": "stream",
     "text": [
      "SVM RS Cross-validation Metrics\n",
      "test_auc 0.9148190082678467 (0.01742402214633226)\n",
      "test_f1 0.975002101312674 (0.004352002358301306)\n",
      "test_accuracy 0.9577973867300187 (0.007191505420420539)\n",
      "test_sensitivity 0.9775769973860667 (0.01104946889461158)\n",
      "test_specificity 0.8520610191496267 (0.04075706875783712)\n",
      "test_precision 0.9725809410245605 (0.007238217236891085)\n"
     ]
    }
   ],
   "source": [
    "print(\"SVM RS Cross-validation Metrics\")\n",
    "svm_rs_stats = collate_ht_results(svm_rs)"
   ]
  },
  {
   "cell_type": "markdown",
   "metadata": {},
   "source": [
    "## RandomForest Hyperparameter Tuning"
   ]
  },
  {
   "cell_type": "code",
   "execution_count": 789,
   "metadata": {},
   "outputs": [
    {
     "name": "stdout",
     "output_type": "stream",
     "text": [
      "Depth Limit: 11\n"
     ]
    }
   ],
   "source": [
    "from math import *\n",
    "num_training_samples=X_train_full.shape[0]\n",
    "depth_limit=ceil(log2(num_training_samples)-1)\n",
    "print(\"Depth Limit:\",depth_limit)"
   ]
  },
  {
   "cell_type": "code",
   "execution_count": 790,
   "metadata": {},
   "outputs": [],
   "source": [
    "from sklearn.model_selection import RandomizedSearchCV\n",
    "num_features=X_train.shape[1]\n",
    "rf_params={'criterion':('gini', 'entropy'),'max_depth':(None,depth_limit),'n_estimators':[10,20,30,40,50,60,70,80,90,100]}\n",
    "rf_rs = RandomizedSearchCV(\n",
    "    RandomForestClassifier(),\n",
    "    rf_params,\n",
    "    n_iter=16,\n",
    "    scoring=p1_metrics_scorer,\n",
    "    refit=\"auc\",\n",
    "    cv=skf,\n",
    "    n_jobs=-1,\n",
    "    return_train_score=False,\n",
    "    random_state=24109948\n",
    ")\n",
    "rf_rs_start = time.time()\n",
    "rf_rs=rf_rs.fit(X_train_full,Y_train_full)\n",
    "rf_rs_end = time.time()"
   ]
  },
  {
   "cell_type": "code",
   "execution_count": 791,
   "metadata": {},
   "outputs": [
    {
     "name": "stdout",
     "output_type": "stream",
     "text": [
      "Total RandomizedSearchCV Time (min): 0.1401166598002116\n"
     ]
    }
   ],
   "source": [
    "print(\"Total RandomizedSearchCV Time (min):\",(rf_rs_end-rf_rs_start)/60)"
   ]
  },
  {
   "cell_type": "code",
   "execution_count": 792,
   "metadata": {},
   "outputs": [
    {
     "data": {
      "text/plain": [
       "{'n_estimators': 40, 'max_depth': None, 'criterion': 'gini'}"
      ]
     },
     "execution_count": 792,
     "metadata": {},
     "output_type": "execute_result"
    }
   ],
   "source": [
    "rf_rs.cv_results_['params'][rf_rs.best_index_]"
   ]
  },
  {
   "cell_type": "code",
   "execution_count": 793,
   "metadata": {},
   "outputs": [
    {
     "name": "stdout",
     "output_type": "stream",
     "text": [
      "RF RS Cross-validation Metrics\n",
      "test_auc 0.8805941395039912 (0.01681880474102597)\n",
      "test_f1 0.9700090447496759 (0.003535346274112389)\n",
      "test_accuracy 0.948955580874807 (0.005767734941426906)\n",
      "test_sensitivity 0.9804352767359928 (0.01082576638837324)\n",
      "test_specificity 0.7807530022719896 (0.04145915759743939)\n",
      "test_precision 0.9599464099545643 (0.007145280750505871)\n"
     ]
    }
   ],
   "source": [
    "print(\"RF RS Cross-validation Metrics\")\n",
    "rf_rs_stats = collate_ht_results(rf_rs)"
   ]
  },
  {
   "cell_type": "markdown",
   "metadata": {},
   "source": [
    "## KNN Hyperparameter Tuning"
   ]
  },
  {
   "cell_type": "code",
   "execution_count": 794,
   "metadata": {},
   "outputs": [],
   "source": [
    "#List Hyperparameters that we want to tune.\n",
    "leaf_size = list(range(1,50))\n",
    "n_neighbors = list(range(1,30))\n",
    "p=[1,2]\n",
    "#Convert to dictionary\n",
    "knn_params = dict(leaf_size=leaf_size, n_neighbors=n_neighbors, p=p)"
   ]
  },
  {
   "cell_type": "code",
   "execution_count": 795,
   "metadata": {},
   "outputs": [],
   "source": [
    "from sklearn.model_selection import RandomizedSearchCV\n",
    "num_features=X_train.shape[1]\n",
    "knn_rs = RandomizedSearchCV(\n",
    "    KNeighborsClassifier(),\n",
    "    knn_params,\n",
    "    n_iter=16,\n",
    "    scoring=p1_metrics_scorer,\n",
    "    refit=\"auc\",\n",
    "    cv=skf,\n",
    "    n_jobs=-1,\n",
    "    return_train_score=False,\n",
    "    random_state=24109948\n",
    ")\n",
    "knn_rs_start = time.time()\n",
    "knn_rs=knn_rs.fit(X_train_full,Y_train_full)\n",
    "knn_rs_end = time.time()"
   ]
  },
  {
   "cell_type": "code",
   "execution_count": 796,
   "metadata": {},
   "outputs": [
    {
     "name": "stdout",
     "output_type": "stream",
     "text": [
      "Best leaf_size: 39\n",
      "Best p: 1\n",
      "Best n_neighbors: 4\n"
     ]
    }
   ],
   "source": [
    "print('Best leaf_size:', knn_rs.best_estimator_.get_params()['leaf_size'])\n",
    "print('Best p:', knn_rs.best_estimator_.get_params()['p'])\n",
    "print('Best n_neighbors:', knn_rs.best_estimator_.get_params()['n_neighbors'])"
   ]
  },
  {
   "cell_type": "code",
   "execution_count": 797,
   "metadata": {},
   "outputs": [
    {
     "name": "stdout",
     "output_type": "stream",
     "text": [
      "Total RandomizedSearchCV Time (min): 0.0434000293413798\n"
     ]
    }
   ],
   "source": [
    "print(\"Total RandomizedSearchCV Time (min):\",(knn_rs_end-knn_rs_start)/60)"
   ]
  },
  {
   "cell_type": "code",
   "execution_count": 798,
   "metadata": {},
   "outputs": [
    {
     "name": "stdout",
     "output_type": "stream",
     "text": [
      "KNN RS Cross-validation Metrics\n",
      "test_auc 0.8380055934921347 (0.017344759002460245)\n",
      "test_f1 0.9545118860561874 (0.005843983283727815)\n",
      "test_accuracy 0.9228269213675627 (0.009500529187447971)\n",
      "test_sensitivity 0.9618274803954995 (0.012729032516072445)\n",
      "test_specificity 0.7141837065887698 (0.03902181222545667)\n",
      "test_precision 0.9474420671385204 (0.006388564817046693)\n"
     ]
    }
   ],
   "source": [
    "print(\"KNN RS Cross-validation Metrics\")\n",
    "knn_rs_stats = collate_ht_results(knn_rs)"
   ]
  },
  {
   "cell_type": "code",
   "execution_count": null,
   "metadata": {},
   "outputs": [],
   "source": []
  },
  {
   "cell_type": "markdown",
   "metadata": {},
   "source": [
    "## Feature Selection"
   ]
  },
  {
   "cell_type": "code",
   "execution_count": 799,
   "metadata": {},
   "outputs": [],
   "source": [
    "#split the data\n",
    "split = StratifiedShuffleSplit(n_splits=1,test_size=5/6, random_state=24109948)\n",
    "for train_index, test_index in split.split(X_train, Y_train):\n",
    "    X_fs_train = X_train[train_index,:]\n",
    "    #X_fs_train_scaled = X_train_proj_scaled[train_index,:]\n",
    "    X_fs_test = X_train[test_index,:]\n",
    "    X_fs_test_scaled = X_train_scaled[test_index,:]\n",
    "    Y_fs_train = Y_train[train_index]\n",
    "    Y_fs_test = Y_train[test_index]"
   ]
  },
  {
   "cell_type": "code",
   "execution_count": 800,
   "metadata": {},
   "outputs": [
    {
     "name": "stdout",
     "output_type": "stream",
     "text": [
      "0) white_pct 0.09829356564422641 (0.12846630573019727) S/I Ratio: 1.3069655667511453\n",
      "1) nonwhite_pct 0.08025021752788727 (0.11471995411289591) S/I Ratio: 1.429528263559289\n",
      "2) demhouse16 0.07749435378373402 (0.11677108894290286) S/I Ratio: 1.5068335077517994\n",
      "3) black_pct 0.07338157149138035 (0.09470017516029798) S/I Ratio: 1.2905171316945943\n",
      "4) obama12 0.059796610913934754 (0.10001797693596962) S/I Ratio: 1.672636214783568\n",
      "5) rephouse16 0.05239232118592294 (0.06546662294100913) S/I Ratio: 1.249546144533086\n",
      "6) total_population 0.04344267358038817 (0.07874021177647417) S/I Ratio: 1.812508422870658\n",
      "7) lesscollege_whites_pct 0.040021160413481464 (0.06779414000781418) S/I Ratio: 1.693957379231242\n",
      "8) otherpres12 0.038835083370900435 (0.06851850056468933) S/I Ratio: 1.7643453964110971\n",
      "9) clf_unemploy_pct 0.036923778299482554 (0.0564532714894253) S/I Ratio: 1.5289137268548822\n",
      "10) cvap 0.036516141308356544 (0.07383095821485536) S/I Ratio: 2.0218718509000704\n",
      "11) rural_pct 0.0347290814675666 (0.07147612132518569) S/I Ratio: 2.058105723064892\n",
      "12) romney12 0.03262329853085433 (0.04998352199740489) S/I Ratio: 1.5321418816718269\n",
      "13) lesscollege_pct 0.028374357053359 (0.04425745061546964) S/I Ratio: 1.559769285071091\n",
      "14) female_pct 0.02600189374284152 (0.03582498006372782) S/I Ratio: 1.3777834960036577\n",
      "15) age65andolder_pct 0.025159549563524283 (0.0341803496148832) S/I Ratio: 1.358543781898109\n",
      "16) age29andunder_pct 0.02438519009034685 (0.03626182483584632) S/I Ratio: 1.4870429429295682\n",
      "17) lesshs_pct 0.024342134809917208 (0.029967692085751257) S/I Ratio: 1.2311036940581788\n",
      "18) foreignborn_pct 0.02386275984182338 (0.04607580361143971) S/I Ratio: 1.930866501480032\n",
      "19) lesshs_whites_pct 0.02331256233253225 (0.0288300189542749) S/I Ratio: 1.2366731096754278\n",
      "20) hispanic_pct 0.020744560459269656 (0.03555690891454848) S/I Ratio: 1.7140353002109505\n",
      "21) median_hh_inc 0.016489370248404668 (0.028072519574729633) S/I Ratio: 1.7024615950658046\n",
      "22) otherhouse16 0.014482463957318203 (0.03253187953167335) S/I Ratio: 2.246294527474692\n",
      "23) State_Vermont 0.014044627890547643 (0.02599721677026741) S/I Ratio: 1.8510434717721593\n",
      "24) ruralurban_cc 0.010428657700155816 (0.02341909086522593) S/I Ratio: 2.2456476699658117\n",
      "25) State_Oregon 0.009112492563856598 (0.01679266474988672) S/I Ratio: 1.842817937266959\n",
      "26) State_California 0.007582325191543762 (0.027032569034189192) S/I Ratio: 3.5652083432582717\n",
      "27) State_Texas 0.003639446383693048 (0.011987898846914237) S/I Ratio: 3.2938797781518026\n",
      "28) State_South Dakota 0.0025715583987246434 (0.008442186082415655) S/I Ratio: 3.2829066167046923\n",
      "29) State_Minnesota 0.002430103382319573 (0.0080243351215814) S/I Ratio: 3.302055040111932\n",
      "30) State_Colorado 0.0021154636901215655 (0.009219710726473599) S/I Ratio: 4.358245792412436\n",
      "31) State_Massachusetts 0.0018009589762963798 (0.008456491007832188) S/I Ratio: 4.695548937612514\n",
      "32) State_Wisconsin 0.001717215300951875 (0.006745443848324497) S/I Ratio: 3.9281293642011046\n",
      "33) State_Georgia 0.0016872527211573068 (0.007284791457265209) S/I Ratio: 4.317546130415177\n",
      "34) State_Florida 0.0013583065826812807 (0.007787025166237838) S/I Ratio: 5.732892165527421\n",
      "35) State_South Carolina 0.001227950019563942 (0.006548135709129222) S/I Ratio: 5.332575108760969\n",
      "36) State_Virginia 0.0012047776536191132 (0.004622893740992938) S/I Ratio: 3.837134368408905\n",
      "37) State_Louisiana 0.0012036115433201227 (0.005630698047495654) S/I Ratio: 4.678168864984095\n",
      "38) State_Washington 0.0010109257054128457 (0.004550817945555206) S/I Ratio: 4.5016344140707405\n",
      "39) State_Alabama 0.0007845964807744399 (0.005164569472717151) S/I Ratio: 6.582453017912388\n",
      "40) State_Iowa 0.00075423665819656 (0.0041363913552544575) S/I Ratio: 5.484208849175933\n",
      "41) State_Illinois 0.0007281186898773301 (0.004063533023846366) S/I Ratio: 5.580866252081746\n",
      "42) State_Tennessee 0.0004083989533276725 (0.0027170586135468974) S/I Ratio: 6.652951951536732\n",
      "43) State_Michigan 0.0003740367582001492 (0.003389517103985917) S/I Ratio: 9.061989309008412\n",
      "44) State_Mississippi 0.00035704121723562917 (0.002560967864778336) S/I Ratio: 7.172751327161835\n",
      "45) State_North Carolina 0.0002899211825131099 (0.002072881795770322) S/I Ratio: 7.1498114687656145\n",
      "46) State_New Mexico 0.00023999129566356443 (0.002387883242001871) S/I Ratio: 9.949874371066203\n",
      "47) State_Oklahoma 0.00023851139324039704 (0.0013897126253815911) S/I Ratio: 5.826608978720323\n",
      "48) State_New Jersey 0.0001707564053362918 (0.0016990047811509632) S/I Ratio: 9.94987437106621\n",
      "49) State_Kentucky 0.00016145003923947982 (0.0014293510770563708) S/I Ratio: 8.853209846150644\n",
      "50) State_Indiana 0.00010947576676382163 (0.001084621984083079) S/I Ratio: 9.9074161903154\n",
      "51) State_Missouri 0.00010538667053053879 (0.0010405778825205807) S/I Ratio: 9.873904140647879\n",
      "52) State_North Dakota 0.00010108539998929196 (0.001005787030642432) S/I Ratio: 9.949874371066203\n",
      "53) State_Kansas 8.354824844186546e-05 (0.0008312945759191908) S/I Ratio: 9.949874371066224\n",
      "54) State_Ohio 5.198604233268562e-05 (0.0005172545902591514) S/I Ratio: 9.949874371066205\n",
      "55) State_New York 4.3772301400049104e-05 (0.00039651025224205747) S/I Ratio: 9.058473956354797\n",
      "56) State_Arkansas 7.0228794393661645e-06 (6.883673640521905e-05) S/I Ratio: 9.801782445439754\n",
      "57) State_Nebraska 2.902960794658056e-07 (2.8884095210978165e-06) S/I Ratio: 9.949874371066201\n",
      "58) State_Rhode Island 0.0 (0.0) S/I Ratio: nan\n",
      "59) State_Utah 0.0 (0.0) S/I Ratio: nan\n",
      "60) State_West Virginia 0.0 (0.0) S/I Ratio: nan\n",
      "61) State_Pennsylvania 0.0 (0.0) S/I Ratio: nan\n",
      "62) State_District of Columbia 0.0 (0.0) S/I Ratio: nan\n",
      "63) State_New Hampshire 0.0 (0.0) S/I Ratio: nan\n",
      "64) State_Nevada 0.0 (0.0) S/I Ratio: nan\n",
      "65) State_Delaware 0.0 (0.0) S/I Ratio: nan\n",
      "66) State_Montana 0.0 (0.0) S/I Ratio: nan\n",
      "67) State_Maryland 0.0 (0.0) S/I Ratio: nan\n",
      "68) State_Maine 0.0 (0.0) S/I Ratio: nan\n",
      "69) State_Arizona 0.0 (0.0) S/I Ratio: nan\n",
      "70) State_Idaho 0.0 (0.0) S/I Ratio: nan\n",
      "71) State_Hawaii 0.0 (0.0) S/I Ratio: nan\n",
      "72) State_Connecticut 0.0 (0.0) S/I Ratio: nan\n",
      "73) State_Wyoming 0.0 (0.0) S/I Ratio: nan\n"
     ]
    },
    {
     "name": "stderr",
     "output_type": "stream",
     "text": [
      "C:\\Users\\Carlos\\Anaconda3\\lib\\site-packages\\ipykernel_launcher.py:11: RuntimeWarning: invalid value encountered in double_scalars\n",
      "  # This is added back by InteractiveShellApp.init_path()\n"
     ]
    },
    {
     "data": {
      "text/plain": [
       "Text(0, 0.5, 'Mean decrease in impurity')"
      ]
     },
     "execution_count": 800,
     "metadata": {},
     "output_type": "execute_result"
    },
    {
     "data": {
      "image/png": "[encoded data removed]",
      "text/plain": [
       "<Figure size 432x288 with 1 Axes>"
      ]
     },
     "metadata": {
      "needs_background": "light"
     },
     "output_type": "display_data"
    }
   ],
   "source": [
    "import matplotlib.pyplot as plt\n",
    "rf_fs = RandomForestClassifier()\n",
    "rf_fs.fit(X_fs_train,Y_fs_train)\n",
    "importances = rf_fs.feature_importances_\n",
    "std = np.std([tree.feature_importances_ for tree in rf_fs.estimators_], axis=0)\n",
    "\n",
    "ix = np.argsort(importances)[::-1]\n",
    "importances=importances[ix]\n",
    "std=std[ix]\n",
    "feature_names=cols[ix]\n",
    "si_ratios=[i/j for i,j in zip(std,importances)]\n",
    "for i in range(len(importances)):\n",
    "    \n",
    "    print(str(i) + \")\",feature_names[i],importances[i],\"(\"+str(std[i])+\")\",\"S/I Ratio:\",si_ratios[i])\n",
    "    \n",
    "import pandas as pd\n",
    "\n",
    "#let's plot only the first 15 features to make the plot more visually appealing\n",
    "forest_importances = pd.Series(importances[:15],index=cols[ix[:15]])\n",
    "\n",
    "fig, ax = plt.subplots()\n",
    "forest_importances.plot.bar(yerr=std[:15], ax=ax)\n",
    "ax.set_title(\"Feature importances using MDI\")\n",
    "ax.set_ylabel(\"Mean decrease in impurity\")"
   ]
  },
  {
   "cell_type": "code",
   "execution_count": 801,
   "metadata": {
    "scrolled": true
   },
   "outputs": [
    {
     "name": "stdout",
     "output_type": "stream",
     "text": [
      "            feature_name  feature_importance\n",
      "0             demhouse16            0.010392\n",
      "1              white_pct            0.006495\n",
      "2           nonwhite_pct            0.005119\n",
      "3                obama12            0.004913\n",
      "4             rephouse16            0.003203\n",
      "..                   ...                 ...\n",
      "69     age65andolder_pct           -0.000360\n",
      "70     lesshs_whites_pct           -0.000566\n",
      "71  State_South Carolina           -0.000630\n",
      "72          State_Oregon           -0.000720\n",
      "73     age29andunder_pct           -0.000836\n",
      "\n",
      "[74 rows x 2 columns]\n"
     ]
    },
    {
     "data": {
      "image/png": "[encoded data removed]",
      "text/plain": [
       "<Figure size 1440x576 with 1 Axes>"
      ]
     },
     "metadata": {
      "needs_background": "light"
     },
     "output_type": "display_data"
    },
    {
     "name": "stdout",
     "output_type": "stream",
     "text": [
      "              feature_name  feature_importance\n",
      "0               female_pct            0.001396\n",
      "1                black_pct            0.001352\n",
      "2          foreignborn_pct            0.001249\n",
      "3         total_population            0.001190\n",
      "4         clf_unemploy_pct            0.000955\n",
      "..                     ...                 ...\n",
      "69       age65andolder_pct           -0.001411\n",
      "70  lesscollege_whites_pct           -0.001425\n",
      "71            otherhouse16           -0.001499\n",
      "72       age29andunder_pct           -0.001543\n",
      "73              lesshs_pct           -0.001587\n",
      "\n",
      "[74 rows x 2 columns]\n"
     ]
    },
    {
     "data": {
      "image/png": "[encoded data removed]",
      "text/plain": [
       "<Figure size 1440x576 with 1 Axes>"
      ]
     },
     "metadata": {
      "needs_background": "light"
     },
     "output_type": "display_data"
    },
    {
     "name": "stdout",
     "output_type": "stream",
     "text": [
      "                  feature_name  feature_importance\n",
      "0                   demhouse16            0.034330\n",
      "1                   rephouse16            0.027938\n",
      "2                    white_pct            0.020412\n",
      "3                State_Vermont            0.020103\n",
      "4                 nonwhite_pct            0.018660\n",
      "..                         ...                 ...\n",
      "69  State_District of Columbia            0.000000\n",
      "70              State_Delaware            0.000000\n",
      "71           State_Connecticut            0.000000\n",
      "72               State_Wyoming            0.000000\n",
      "73                State_Oregon           -0.005052\n",
      "\n",
      "[74 rows x 2 columns]\n"
     ]
    },
    {
     "data": {
      "image/png": "[encoded data removed]",
      "text/plain": [
       "<Figure size 1440x576 with 1 Axes>"
      ]
     },
     "metadata": {
      "needs_background": "light"
     },
     "output_type": "display_data"
    }
   ],
   "source": [
    "from sklearn.inspection import permutation_importance\n",
    "import matplotlib.pyplot as plt\n",
    "import seaborn as sns\n",
    "\n",
    "\n",
    "def plot_feature_importances(model, x, y, title, cols):\n",
    "    result = permutation_importance(model, x, y, n_repeats=50, scoring=\"accuracy\",random_state=24109948)\n",
    "    indices = np.argsort(result.importances_mean)[::-1]\n",
    "    df = pd.DataFrame({'feature_name': cols[indices], 'feature_importance': result.importances_mean[indices]})\n",
    "    print(df)\n",
    "    #top_importances = pd.Series(result.importances_mean[indices[:15]],index=cols[indices[:15]])\n",
    "    \n",
    "    plt.figure(figsize=(20, 8))\n",
    "    sns.barplot(data=df[:15], x='feature_importance', y='feature_name', xerr=result.importances_std[indices[:15]])\n",
    "    plt.title(title)\n",
    "    plt.show()\n",
    "\n",
    "plot_feature_importances(rf_fs, X_fs_test, Y_fs_test, 'All test data', cols)\n",
    "\n",
    "y_pred = rf_fs.predict(X_fs_test)\n",
    "plot_feature_importances(rf_fs, X_fs_test[y_pred == 1], Y_fs_test[y_pred == 1], 'Predicted as \"Trump\"', cols)\n",
    "plot_feature_importances(rf_fs, X_fs_test[y_pred == 0], Y_fs_test[y_pred == 0], 'Predicted as \"Clinton\"', cols)"
   ]
  },
  {
   "cell_type": "markdown",
   "metadata": {},
   "source": [
    "# 6 Features"
   ]
  },
  {
   "cell_type": "code",
   "execution_count": 802,
   "metadata": {},
   "outputs": [
    {
     "name": "stdout",
     "output_type": "stream",
     "text": [
      "[ 8 11  3  9  1  4]\n"
     ]
    }
   ],
   "source": [
    "features_to_select=list(range(6))\n",
    "print(ix[features_to_select])"
   ]
  },
  {
   "cell_type": "code",
   "execution_count": 803,
   "metadata": {},
   "outputs": [
    {
     "name": "stdout",
     "output_type": "stream",
     "text": [
      "NB Validation Metrics\n",
      "auc: 0.8074466427792493\n",
      "f1: 0.9491525423728814\n",
      "accuracy: 0.9131832797427653\n",
      "sensitivity: 0.9618320610687023\n",
      "specificity: 0.6530612244897959\n",
      "precision: 0.9368029739776952\n",
      "confusion_matrix: [[ 64  34]\n",
      " [ 20 504]]\n"
     ]
    }
   ],
   "source": [
    "X_fs_reduced = X_fs_test[:,ix[features_to_select]]\n",
    "X_validation_reduced = X_validation[:,ix[features_to_select]]\n",
    "gnb_fs6 = GaussianNB()\n",
    "gnb_fs6.fit(X_fs_reduced,Y_fs_test)\n",
    "gnb_fs6_y_pred=gnb_fs6.predict(X_validation_reduced)\n",
    "gnb_fs6_metrics = p1_metrics(Y_validation, gnb_fs6_y_pred)\n",
    "print(\"NB Validation Metrics\")\n",
    "for metric in gnb_fs6_metrics:\n",
    "    print(metric+\":\",gnb_fs6_metrics[metric])"
   ]
  },
  {
   "cell_type": "code",
   "execution_count": 804,
   "metadata": {},
   "outputs": [
    {
     "name": "stdout",
     "output_type": "stream",
     "text": [
      "SVM Validation Metrics\n",
      "auc: 0.8176117775354417\n",
      "f1: 0.963855421686747\n",
      "accuracy: 0.9372990353697749\n",
      "sensitivity: 0.9923664122137404\n",
      "specificity: 0.6428571428571429\n",
      "precision: 0.9369369369369369\n",
      "confusion_matrix: [[ 63  35]\n",
      " [  4 520]]\n"
     ]
    }
   ],
   "source": [
    "X_fs_reduced_scaled = X_fs_test_scaled[:,ix[features_to_select]]\n",
    "X_validation_reduced_scaled = X_validation_scaled[:,ix[features_to_select]]\n",
    "svmc_fs6 = SVC()\n",
    "svmc_fs6.fit(X_fs_reduced_scaled,Y_fs_test)\n",
    "svmc_fs6_y_pred=svmc_fs6.predict(X_validation_reduced_scaled)\n",
    "svmc_fs6_metrics= p1_metrics(Y_validation, svmc_fs6_y_pred)\n",
    "print(\"SVM Validation Metrics\")\n",
    "for metric in svmc_fs6_metrics:\n",
    "    print(metric+\":\",svmc_fs6_metrics[metric])"
   ]
  },
  {
   "cell_type": "code",
   "execution_count": 805,
   "metadata": {},
   "outputs": [
    {
     "name": "stdout",
     "output_type": "stream",
     "text": [
      "RF Validation Metrics\n",
      "auc: 0.8539881601495559\n",
      "f1: 0.9622641509433962\n",
      "accuracy: 0.9356913183279743\n",
      "sensitivity: 0.9732824427480916\n",
      "specificity: 0.7346938775510204\n",
      "precision: 0.9514925373134329\n",
      "confusion_matrix: [[ 72  26]\n",
      " [ 14 510]]\n"
     ]
    }
   ],
   "source": [
    "rf_fs6 = RandomForestClassifier()\n",
    "rf_fs6.fit(X_fs_reduced,Y_fs_test)\n",
    "rf_fs6_y_pred=rf_fs6.predict(X_validation_reduced)\n",
    "rf_fs6_metrics= p1_metrics(Y_validation,rf_fs6_y_pred)\n",
    "print(\"RF Validation Metrics\")\n",
    "for metric in rf_fs6_metrics:\n",
    "    print(metric+\":\",rf_fs6_metrics[metric])"
   ]
  },
  {
   "cell_type": "code",
   "execution_count": 806,
   "metadata": {},
   "outputs": [
    {
     "name": "stdout",
     "output_type": "stream",
     "text": [
      "Logistic Regression Training Metrics\n",
      "auc: 0.8074076959027886\n",
      "f1: 0.9620721554116559\n",
      "accuracy: 0.9340836012861736\n",
      "sensitivity: 0.9923664122137404\n",
      "specificity: 0.6224489795918368\n",
      "precision: 0.933572710951526\n",
      "confusion_matrix: [[ 61  37]\n",
      " [  4 520]]\n"
     ]
    }
   ],
   "source": [
    "lr_fs6 = LogisticRegression(max_iter=10000)\n",
    "lr_fs6.fit(X_fs_reduced,Y_fs_test)\n",
    "lr_fs6_y_pred = lr_fs6.predict(X_validation_reduced)\n",
    "lr_fs6_metrics = p1_metrics(Y_validation, lr_fs6_y_pred)\n",
    "print(\"Logistic Regression Training Metrics\")\n",
    "for metric in lr_fs6_metrics:\n",
    "    print(metric+\":\",lr_fs6_metrics[metric])"
   ]
  },
  {
   "cell_type": "code",
   "execution_count": 807,
   "metadata": {},
   "outputs": [
    {
     "name": "stdout",
     "output_type": "stream",
     "text": [
      "KNN Training Metrics\n",
      "auc: 0.8412525315469699\n",
      "f1: 0.95346628679962\n",
      "accuracy: 0.9212218649517685\n",
      "sensitivity: 0.9580152671755725\n",
      "specificity: 0.7244897959183674\n",
      "precision: 0.9489603024574669\n",
      "confusion_matrix: [[ 71  27]\n",
      " [ 22 502]]\n"
     ]
    }
   ],
   "source": [
    "knn_fs6 = KNeighborsClassifier(n_neighbors=3)\n",
    "knn_fs6.fit(X_fs_reduced, Y_fs_test)\n",
    "knn_fs6_y_pred = knn_fs6.predict(X_validation_reduced)\n",
    "knn_fs6_metrics = p1_metrics(Y_validation, knn_fs6_y_pred)\n",
    "print(\"KNN Training Metrics\")\n",
    "for metric in knn_fs6_metrics:\n",
    "    print(metric+\":\",knn_fs6_metrics[metric])"
   ]
  },
  {
   "cell_type": "code",
   "execution_count": 808,
   "metadata": {},
   "outputs": [
    {
     "name": "stdout",
     "output_type": "stream",
     "text": [
      "[ 8 11  3  9  1  4  6 21  2 17  7]\n"
     ]
    }
   ],
   "source": [
    "features_to_select=list(range(11))\n",
    "print(ix[features_to_select])"
   ]
  },
  {
   "cell_type": "markdown",
   "metadata": {},
   "source": [
    "## NB(11)"
   ]
  },
  {
   "cell_type": "code",
   "execution_count": 809,
   "metadata": {},
   "outputs": [
    {
     "name": "stdout",
     "output_type": "stream",
     "text": [
      "NB Validation Metrics\n",
      "auc: 0.6782793269979748\n",
      "f1: 0.9344262295081968\n",
      "accuracy: 0.8842443729903537\n",
      "sensitivity: 0.9790076335877863\n",
      "specificity: 0.37755102040816324\n",
      "precision: 0.8937282229965157\n",
      "confusion_matrix: [[ 37  61]\n",
      " [ 11 513]]\n"
     ]
    }
   ],
   "source": [
    "X_fs_reduced = X_fs_test[:,ix[features_to_select]]\n",
    "X_validation_reduced = X_validation[:,ix[features_to_select]]\n",
    "gnb_fs11 = GaussianNB()\n",
    "gnb_fs11.fit(X_fs_reduced,Y_fs_test)\n",
    "gnb_fs11_y_pred=gnb_fs11.predict(X_validation_reduced)\n",
    "gnb_fs11_metrics = p1_metrics(Y_validation, gnb_fs11_y_pred)\n",
    "print(\"NB Validation Metrics\")\n",
    "for metric in gnb_fs11_metrics:\n",
    "    print(metric+\":\",gnb_fs11_metrics[metric])"
   ]
  },
  {
   "cell_type": "markdown",
   "metadata": {},
   "source": [
    "## SVM(11)"
   ]
  },
  {
   "cell_type": "code",
   "execution_count": 810,
   "metadata": {},
   "outputs": [
    {
     "name": "stdout",
     "output_type": "stream",
     "text": [
      "SVM Validation Metrics\n",
      "auc: 0.8667237887521421\n",
      "f1: 0.970946579194002\n",
      "accuracy: 0.9501607717041801\n",
      "sensitivity: 0.9885496183206107\n",
      "specificity: 0.7448979591836735\n",
      "precision: 0.9539594843462247\n",
      "confusion_matrix: [[ 73  25]\n",
      " [  6 518]]\n"
     ]
    }
   ],
   "source": [
    "X_fs_reduced_scaled = X_fs_test_scaled[:,ix[features_to_select]]\n",
    "X_validation_reduced_scaled = X_validation_scaled[:,ix[features_to_select]]\n",
    "svmc_fs11 = SVC()\n",
    "svmc_fs11.fit(X_fs_reduced_scaled,Y_fs_test)\n",
    "svmc_fs11_y_pred=svmc_fs11.predict(X_validation_reduced_scaled)\n",
    "svmc_fs11_metrics= p1_metrics(Y_validation, svmc_fs11_y_pred)\n",
    "print(\"SVM Validation Metrics\")\n",
    "for metric in svmc_fs11_metrics:\n",
    "    print(metric+\":\",svmc_fs11_metrics[metric])"
   ]
  },
  {
   "cell_type": "markdown",
   "metadata": {},
   "source": [
    "## Random Forest (11)"
   ]
  },
  {
   "cell_type": "code",
   "execution_count": 811,
   "metadata": {},
   "outputs": [
    {
     "name": "stdout",
     "output_type": "stream",
     "text": [
      "RF Validation Metrics\n",
      "auc: 0.9231772861816483\n",
      "f1: 0.9771428571428572\n",
      "accuracy: 0.9614147909967846\n",
      "sensitivity: 0.9790076335877863\n",
      "specificity: 0.8673469387755102\n",
      "precision: 0.9752851711026616\n",
      "confusion_matrix: [[ 85  13]\n",
      " [ 11 513]]\n"
     ]
    }
   ],
   "source": [
    "rf_fs11 = RandomForestClassifier()\n",
    "rf_fs11.fit(X_fs_reduced,Y_fs_test)\n",
    "rf_fs11_y_pred=rf_fs11.predict(X_validation_reduced)\n",
    "rf_fs11_metrics= p1_metrics(Y_validation,rf_fs11_y_pred)\n",
    "print(\"RF Validation Metrics\")\n",
    "for metric in rf_fs11_metrics:\n",
    "    print(metric+\":\",rf_fs11_metrics[metric])"
   ]
  },
  {
   "cell_type": "markdown",
   "metadata": {},
   "source": [
    "## Logistic Regression (11)"
   ]
  },
  {
   "cell_type": "code",
   "execution_count": 812,
   "metadata": {},
   "outputs": [
    {
     "name": "stdout",
     "output_type": "stream",
     "text": [
      "Logistic Regression Training Metrics\n",
      "auc: 0.8871319520174482\n",
      "f1: 0.9746001881467544\n",
      "accuracy: 0.9565916398713826\n",
      "sensitivity: 0.9885496183206107\n",
      "specificity: 0.7857142857142857\n",
      "precision: 0.961038961038961\n",
      "confusion_matrix: [[ 77  21]\n",
      " [  6 518]]\n"
     ]
    }
   ],
   "source": [
    "lr_fs11 = LogisticRegression(max_iter=10000)\n",
    "lr_fs11.fit(X_fs_reduced,Y_fs_test)\n",
    "lr_fs11_y_pred = lr_fs11.predict(X_validation_reduced)\n",
    "lr_fs11_metrics = p1_metrics(Y_validation, lr_fs11_y_pred)\n",
    "print(\"Logistic Regression Training Metrics\")\n",
    "for metric in lr_fs11_metrics:\n",
    "    print(metric+\":\",lr_fs11_metrics[metric])"
   ]
  },
  {
   "cell_type": "markdown",
   "metadata": {},
   "source": [
    "## KNN (11)"
   ]
  },
  {
   "cell_type": "code",
   "execution_count": 813,
   "metadata": {},
   "outputs": [
    {
     "name": "stdout",
     "output_type": "stream",
     "text": [
      "KNN Training Metrics\n",
      "auc: 0.793094718803552\n",
      "f1: 0.9474671669793621\n",
      "accuracy: 0.909967845659164\n",
      "sensitivity: 0.9637404580152672\n",
      "specificity: 0.6224489795918368\n",
      "precision: 0.9317343173431735\n",
      "confusion_matrix: [[ 61  37]\n",
      " [ 19 505]]\n"
     ]
    }
   ],
   "source": [
    "knn_fs11 = KNeighborsClassifier(n_neighbors=3)\n",
    "knn_fs11.fit(X_fs_reduced, Y_fs_test)\n",
    "knn_fs11_y_pred = knn_fs11.predict(X_validation_reduced)\n",
    "knn_fs11_metrics = p1_metrics(Y_validation, knn_fs11_y_pred)\n",
    "print(\"KNN Training Metrics\")\n",
    "for metric in knn_fs11_metrics:\n",
    "    print(metric+\":\",knn_fs11_metrics[metric])"
   ]
  },
  {
   "cell_type": "code",
   "execution_count": 814,
   "metadata": {
    "scrolled": true
   },
   "outputs": [
    {
     "name": "stdout",
     "output_type": "stream",
     "text": [
      "\t\t\t\tAUC of Feature Selection\n",
      "Model\t\t6\t\t\t11\t\t\tAll\n",
      "NB\t0.8074466427792493\t0.6782793269979748\t0.6601106091291479\n",
      "SVM\t0.8176117775354417\t0.8667237887521421\t0.876927870384795\n",
      "RF\t0.8539881601495559\t0.9231772861816483\t0.8922339928337747\n",
      "LR\t0.8074076959027886\t0.8871319520174482\t0.925085683128213\n",
      "KNN\t0.8412525315469699\t0.793094718803552\t0.7978657111699643\n"
     ]
    }
   ],
   "source": [
    "#25 accounts for the features right before we OHC \"State\"\n",
    "print(\"\\t\\t\\t\\tAUC of Feature Selection\")\n",
    "print(\"Model\\t\\t6\\t\\t\\t11\\t\\t\\tAll\")\n",
    "print(\"NB\\t\"+str(gnb_fs6_metrics['auc'])+\"\\t\"+str(gnb_fs11_metrics['auc'])+\"\\t\"+str(gnb_metrics['auc']))\n",
    "print(\"SVM\\t\"+str(svmc_fs6_metrics['auc'])+\"\\t\"+str(svmc_fs11_metrics['auc'])+\"\\t\"+str(svmc_metrics['auc']))\n",
    "print(\"RF\\t\"+str(rf_fs6_metrics['auc'])+\"\\t\"+str(rf_fs11_metrics['auc'])+\"\\t\"+str(rf_metrics['auc']))\n",
    "print(\"LR\\t\"+str(lr_fs6_metrics['auc'])+\"\\t\"+str(lr_fs11_metrics['auc'])+\"\\t\"+str(lr_metrics['auc']))\n",
    "print(\"KNN\\t\"+str(knn_fs6_metrics['auc'])+\"\\t\"+str(knn_fs11_metrics['auc'])+\"\\t\"+str(knn_metrics['auc']))"
   ]
  },
  {
   "cell_type": "markdown",
   "metadata": {},
   "source": [
    "## Final NB"
   ]
  },
  {
   "cell_type": "code",
   "execution_count": 815,
   "metadata": {},
   "outputs": [
    {
     "name": "stdout",
     "output_type": "stream",
     "text": [
      "NB Final Metrics\n",
      "auc: 0.6578711637326686\n",
      "f1: 0.9310344827586207\n",
      "accuracy: 0.8778135048231511\n",
      "sensitivity: 0.9790076335877863\n",
      "specificity: 0.336734693877551\n",
      "precision: 0.8875432525951558\n",
      "confusion_matrix: [[ 33  65]\n",
      " [ 11 513]]\n"
     ]
    }
   ],
   "source": [
    "gnb_final = GaussianNB()\n",
    "gnb_final.fit(X_train_full,Y_train_full)\n",
    "gnb_final_y_pred=gnb_final.predict(X_test)\n",
    "gnb_final_metrics = p1_metrics(Y_test, gnb_final_y_pred)\n",
    "print(\"NB Final Metrics\")\n",
    "for metric in gnb_final_metrics:\n",
    "    print(metric+\":\",gnb_final_metrics[metric])"
   ]
  },
  {
   "cell_type": "markdown",
   "metadata": {},
   "source": [
    "## Final SVM"
   ]
  },
  {
   "cell_type": "code",
   "execution_count": 816,
   "metadata": {},
   "outputs": [
    {
     "name": "stdout",
     "output_type": "stream",
     "text": [
      "SVM Final Metrics\n",
      "auc: 0.8421677831437919\n",
      "f1: 0.967381174277726\n",
      "accuracy: 0.9437299035369775\n",
      "sensitivity: 0.9904580152671756\n",
      "specificity: 0.6938775510204082\n",
      "precision: 0.9453551912568307\n",
      "confusion_matrix: [[ 68  30]\n",
      " [  5 519]]\n"
     ]
    }
   ],
   "source": [
    "#hyperparameter results\n",
    "#svm_final = SVC(C=60,kernel='linear',gamma='auto')\n",
    "svm_final = SVC()\n",
    "svm_final.fit(X_train_full_scaled,Y_train_full)\n",
    "svm_final_y_pred=svm_final.predict(X_test_scaled)\n",
    "svm_final_metrics= p1_metrics(Y_test, svm_final_y_pred)\n",
    "print(\"SVM Final Metrics\")\n",
    "for metric in svm_final_metrics:\n",
    "    print(metric+\":\",svm_final_metrics[metric])"
   ]
  },
  {
   "cell_type": "code",
   "execution_count": null,
   "metadata": {},
   "outputs": [],
   "source": []
  },
  {
   "cell_type": "markdown",
   "metadata": {},
   "source": [
    "## Final Random Forest"
   ]
  },
  {
   "cell_type": "code",
   "execution_count": 817,
   "metadata": {},
   "outputs": [
    {
     "name": "stdout",
     "output_type": "stream",
     "text": [
      "RF Final Metrics\n",
      "auc: 0.8852235550708832\n",
      "f1: 0.9726672950047126\n",
      "accuracy: 0.9533762057877814\n",
      "sensitivity: 0.9847328244274809\n",
      "specificity: 0.7857142857142857\n",
      "precision: 0.9608938547486033\n",
      "confusion_matrix: [[ 77  21]\n",
      " [  8 516]]\n"
     ]
    }
   ],
   "source": [
    "rf_final = RandomForestClassifier()\n",
    "rf_final.fit(X_train_full,Y_train_full)\n",
    "rf_final_y_pred=rf_final.predict(X_test)\n",
    "rf_final_metrics= p1_metrics(Y_test,rf_final_y_pred)\n",
    "print(\"RF Final Metrics\")\n",
    "for metric in rf_final_metrics:\n",
    "    print(metric+\":\",rf_final_metrics[metric])"
   ]
  },
  {
   "cell_type": "markdown",
   "metadata": {},
   "source": [
    "## Final Logistic Regression"
   ]
  },
  {
   "cell_type": "code",
   "execution_count": 818,
   "metadata": {},
   "outputs": [
    {
     "name": "stdout",
     "output_type": "stream",
     "text": [
      "Logistic Regression Final Metrics\n",
      "auc: 0.8740652749649478\n",
      "f1: 0.9698681732580038\n",
      "accuracy: 0.9485530546623794\n",
      "sensitivity: 0.982824427480916\n",
      "specificity: 0.7653061224489796\n",
      "precision: 0.9572490706319703\n",
      "confusion_matrix: [[ 75  23]\n",
      " [  9 515]]\n"
     ]
    }
   ],
   "source": [
    "lr_final = LogisticRegression(max_iter=10000)\n",
    "lr_final.fit(X_train_full,Y_train_full)\n",
    "lr_final_y_pred = lr_final.predict(X_test)\n",
    "lr_final_metrics = p1_metrics(Y_test, lr_final_y_pred)\n",
    "print(\"Logistic Regression Final Metrics\")\n",
    "for metric in lr_final_metrics:\n",
    "    print(metric+\":\",lr_final_metrics[metric])"
   ]
  },
  {
   "cell_type": "markdown",
   "metadata": {},
   "source": [
    "## Final KNN"
   ]
  },
  {
   "cell_type": "code",
   "execution_count": 819,
   "metadata": {},
   "outputs": [
    {
     "name": "stdout",
     "output_type": "stream",
     "text": [
      "KNN Final Metrics\n",
      "auc: 0.7905242249571585\n",
      "f1: 0.9535315985130112\n",
      "accuracy: 0.9196141479099679\n",
      "sensitivity: 0.9790076335877863\n",
      "specificity: 0.6020408163265306\n",
      "precision: 0.9293478260869565\n",
      "confusion_matrix: [[ 59  39]\n",
      " [ 11 513]]\n"
     ]
    }
   ],
   "source": [
    "knn_final = KNeighborsClassifier(n_neighbors=3)\n",
    "knn_final.fit(X_train_full,Y_train_full)\n",
    "knn_final_y_pred = knn_final.predict(X_test)\n",
    "knn_final_metrics = p1_metrics(Y_test, knn_final_y_pred)\n",
    "print(\"KNN Final Metrics\")\n",
    "for metric in knn_final_metrics:\n",
    "    print(metric+\":\",knn_final_metrics[metric])"
   ]
  },
  {
   "cell_type": "code",
   "execution_count": 834,
   "metadata": {},
   "outputs": [
    {
     "data": {
      "image/png": "[encoded data removed]",
      "text/plain": [
       "<Figure size 432x288 with 1 Axes>"
      ]
     },
     "metadata": {
      "needs_background": "light"
     },
     "output_type": "display_data"
    }
   ],
   "source": [
    "labels=metric_keys\n",
    "x = np.arange(len(labels))  # the label locations\n",
    "width = 0.15  # the width of the bars\n",
    "\n",
    "fig, ax = plt.subplots()\n",
    "gnb_results = ax.bar(x - 2*width, list(gnb_final_metrics.values())[:-1], width, label='Naive Bayes')\n",
    "knn_results = ax.bar(x - width, list(knn_final_metrics.values())[:-1], width, label='K-Nearest Neighbors')\n",
    "svm_results = ax.bar(x, list(svm_final_metrics.values())[:-1], width,  label='SVM')\n",
    "rf_results = ax.bar(x + width, list(rf_final_metrics.values())[:-1], width,  label='Random Forest')\n",
    "lr_results = ax.bar(x + 2*width, list(lr_final_metrics.values())[:-1], width, label='Logistic Regression')\n",
    "\n",
    "\n",
    "# Add some text for labels, title and custom x-axis tick labels, etc.\n",
    "ax.set_ylabel('Metric Value')\n",
    "ax.set_title('Test Set Performance Metrics')\n",
    "plt.xticks(ticks=x,labels=labels)\n",
    "ax.legend(loc='center left', bbox_to_anchor=(1, 0.5))\n",
    "\n",
    "\n",
    "#fig.tight_layout()\n",
    "\n",
    "plt.show()"
   ]
  },
  {
   "cell_type": "markdown",
   "metadata": {},
   "source": [
    "## CV Performance Chart"
   ]
  },
  {
   "cell_type": "code",
   "execution_count": 835,
   "metadata": {
    "scrolled": true
   },
   "outputs": [
    {
     "data": {
      "image/png": "[encoded data removed]",
      "text/plain": [
       "<Figure size 432x288 with 1 Axes>"
      ]
     },
     "metadata": {
      "needs_background": "light"
     },
     "output_type": "display_data"
    }
   ],
   "source": [
    "labels=metric_keys\n",
    "x = np.arange(len(labels))  # the label locations\n",
    "width = 0.15  # the width of the bars\n",
    "\n",
    "gnb_mean_metrics = [gnb_cv_stats[\"test_\"+l+\"_mean\"] for l in labels]\n",
    "gnb_std_metrics = [gnb_cv_stats[\"test_\"+l+\"_std\"] for l in labels]\n",
    "svm_mean_metrics = [svm_cv_stats[\"test_\"+l+\"_mean\"] for l in labels]\n",
    "svm_std_metrics = [svm_cv_stats[\"test_\"+l+\"_std\"] for l in labels]\n",
    "rf_mean_metrics = [rf_cv_stats[\"test_\"+l+\"_mean\"] for l in labels]\n",
    "rf_std_metrics = [rf_cv_stats[\"test_\"+l+\"_std\"] for l in labels]\n",
    "lr_mean_metrics = [lr_cv_stats[\"test_\"+l+\"_mean\"] for l in labels]\n",
    "lr_std_metrics = [lr_cv_stats[\"test_\"+l+\"_std\"] for l in labels]\n",
    "knn_mean_metrics = [knn_cv_stats[\"test_\"+l+\"_mean\"] for l in labels]\n",
    "knn_std_metrics = [knn_cv_stats[\"test_\"+l+\"_std\"] for l in labels]\n",
    "\n",
    "fig, ax = plt.subplots()\n",
    "gnb_results = ax.bar(x - 2*width, gnb_mean_metrics, width,yerr=gnb_std_metrics, label='Naive Bayes')\n",
    "knn_results = ax.bar(x - width, knn_mean_metrics, width,yerr=knn_std_metrics, label='K-Nearest Neighbors')\n",
    "svm_results = ax.bar(x, svm_mean_metrics, width, yerr=svm_std_metrics, label='SVM')\n",
    "rf_results = ax.bar(x + width, rf_mean_metrics, width, yerr=rf_std_metrics, label='Random Forest')\n",
    "lr_results = ax.bar(x + 2*width, lr_mean_metrics, width,yerr=lr_std_metrics, label='Logistic Regression')\n",
    "\n",
    "\n",
    "# Add some text for labels, title and custom x-axis tick labels, etc.\n",
    "ax.set_ylabel('Metric Value')\n",
    "ax.set_title('Cross-Validation Performance Metrics')\n",
    "plt.xticks(ticks=x,labels=labels)\n",
    "ax.legend(loc='center left', bbox_to_anchor=(1, 0.5))\n",
    "\n",
    "\n",
    "#fig.tight_layout()\n",
    "\n",
    "plt.show()"
   ]
  },
  {
   "cell_type": "markdown",
   "metadata": {},
   "source": [
    "## ROC Curve of Final Models"
   ]
  },
  {
   "cell_type": "code",
   "execution_count": 821,
   "metadata": {},
   "outputs": [
    {
     "data": {
      "image/png": "[encoded data removed]",
      "text/plain": [
       "<Figure size 432x288 with 1 Axes>"
      ]
     },
     "metadata": {
      "needs_background": "light"
     },
     "output_type": "display_data"
    }
   ],
   "source": [
    "from sklearn.metrics import RocCurveDisplay\n",
    "\n",
    "ax = plt.gca()\n",
    "roc_gnb = RocCurveDisplay.from_predictions(gnb_final_y_pred, Y_test, ax=ax, alpha=0.8,name=\"Naive Bayes Final\")\n",
    "roc_svm = RocCurveDisplay.from_predictions(svm_final_y_pred, Y_test, ax=ax, alpha=0.8,name=\"SVM Final\")\n",
    "roc_rf = RocCurveDisplay.from_predictions(rf_final_y_pred,Y_test, ax=ax, alpha=0.8,name=\"RF Final\")\n",
    "roc_lr = RocCurveDisplay.from_predictions(lr_final_y_pred,Y_test, ax=ax, alpha=0.8,name=\"LR Final\")\n",
    "roc_knn = RocCurveDisplay.from_predictions(knn_final_y_pred,Y_test, ax=ax, alpha=0.8,name=\"KNN Final\")\n",
    "plt.show()"
   ]
  },
  {
   "cell_type": "markdown",
   "metadata": {},
   "source": [
    "## Final Models with Hyperparameter Tuning"
   ]
  },
  {
   "cell_type": "code",
   "execution_count": 822,
   "metadata": {},
   "outputs": [
    {
     "name": "stdout",
     "output_type": "stream",
     "text": [
      "SVM HT Final Metrics\n",
      "auc: 0.9525042841564106\n",
      "f1: 0.9857006673021925\n",
      "accuracy: 0.9758842443729904\n",
      "sensitivity: 0.9866412213740458\n",
      "specificity: 0.9183673469387755\n",
      "precision: 0.9847619047619047\n",
      "confusion_matrix: [[ 90   8]\n",
      " [  7 517]]\n"
     ]
    }
   ],
   "source": [
    "svmht_final_y_pred = svm_rs.predict(X_test_scaled)\n",
    "svmht_final_metrics = p1_metrics(Y_test, svmht_final_y_pred)\n",
    "print(\"SVM HT Final Metrics\")\n",
    "for metric in svmht_final_metrics:\n",
    "    print(metric+\":\",svmht_final_metrics[metric])"
   ]
  },
  {
   "cell_type": "code",
   "execution_count": 823,
   "metadata": {},
   "outputs": [
    {
     "name": "stdout",
     "output_type": "stream",
     "text": [
      "RF HT Final Metrics\n",
      "auc: 0.8963818351768188\n",
      "f1: 0.9754716981132077\n",
      "accuracy: 0.9581993569131833\n",
      "sensitivity: 0.9866412213740458\n",
      "specificity: 0.8061224489795918\n",
      "precision: 0.9645522388059702\n",
      "confusion_matrix: [[ 79  19]\n",
      " [  7 517]]\n"
     ]
    }
   ],
   "source": [
    "rfht_final_y_pred = rf_rs.predict(X_test)\n",
    "rfht_final_metrics = p1_metrics(Y_test, rfht_final_y_pred)\n",
    "print(\"RF HT Final Metrics\")\n",
    "for metric in rfht_final_metrics:\n",
    "    print(metric+\":\",rfht_final_metrics[metric])"
   ]
  },
  {
   "cell_type": "code",
   "execution_count": 824,
   "metadata": {},
   "outputs": [
    {
     "name": "stdout",
     "output_type": "stream",
     "text": [
      "KNN HT Final Metrics\n",
      "auc: 0.8294321545412058\n",
      "f1: 0.9587242026266417\n",
      "accuracy: 0.9292604501607717\n",
      "sensitivity: 0.9751908396946565\n",
      "specificity: 0.6836734693877551\n",
      "precision: 0.9428044280442804\n",
      "confusion_matrix: [[ 67  31]\n",
      " [ 13 511]]\n"
     ]
    }
   ],
   "source": [
    "knnht_final_y_pred = knn_rs.predict(X_test)\n",
    "knnht_final_metrics = p1_metrics(Y_test, knnht_final_y_pred)\n",
    "print(\"KNN HT Final Metrics\")\n",
    "for metric in knnht_final_metrics:\n",
    "    print(metric+\":\",knnht_final_metrics[metric])"
   ]
  },
  {
   "cell_type": "code",
   "execution_count": 839,
   "metadata": {},
   "outputs": [
    {
     "data": {
      "image/png": "[encoded data removed]",
      "text/plain": [
       "<Figure size 432x288 with 1 Axes>"
      ]
     },
     "metadata": {
      "needs_background": "light"
     },
     "output_type": "display_data"
    }
   ],
   "source": [
    "labels=metric_keys\n",
    "x = np.arange(len(labels))  # the label locations\n",
    "width = 0.15  # the width of the bars\n",
    "\n",
    "fig, ax = plt.subplots()\n",
    "\n",
    "knn_results = ax.bar(x - width, list(knnht_final_metrics.values())[:-1], width, label='K-Nearest Neighbors HT', color='orange')\n",
    "rf_results = ax.bar(x, list(rfht_final_metrics.values())[:-1], width,  label='Random Forest HT', color='red')\n",
    "svm_results = ax.bar(x + width, list(svmht_final_metrics.values())[:-1], width,  label='SVM HT', color='green')\n",
    "\n",
    "\n",
    "\n",
    "# Add some text for labels, title and custom x-axis tick labels, etc.\n",
    "ax.set_ylabel('Metric Value')\n",
    "ax.set_title('Hyperparameter Tuning Performance Metrics')\n",
    "plt.xticks(ticks=x,labels=labels)\n",
    "ax.legend(loc='center left', bbox_to_anchor=(1, 0.5))\n",
    "\n",
    "\n",
    "#fig.tight_layout()\n",
    "\n",
    "plt.show()"
   ]
  },
  {
   "cell_type": "code",
   "execution_count": 825,
   "metadata": {},
   "outputs": [
    {
     "data": {
      "image/png": "[encoded data removed]",
      "text/plain": [
       "<Figure size 432x288 with 1 Axes>"
      ]
     },
     "metadata": {
      "needs_background": "light"
     },
     "output_type": "display_data"
    }
   ],
   "source": [
    "ax = plt.gca()\n",
    "roc_gnb = RocCurveDisplay.from_predictions(gnb_final_y_pred, Y_test, ax=ax, alpha=0.8,name=\"Naive Bayes Final\")\n",
    "roc_svm = RocCurveDisplay.from_predictions(svmht_final_y_pred, Y_test, ax=ax, alpha=0.8,name=\"SVM HT Final\")\n",
    "roc_rf = RocCurveDisplay.from_predictions(rfht_final_y_pred,Y_test, ax=ax, alpha=0.8,name=\"RF HT Final\")\n",
    "roc_lr = RocCurveDisplay.from_predictions(lr_final_y_pred,Y_test, ax=ax, alpha=0.8,name=\"LR Final\")\n",
    "roc_knn = RocCurveDisplay.from_predictions(knnht_final_y_pred,Y_test, ax=ax, alpha=0.8,name=\"KNN HT Final\")\n",
    "plt.show()"
   ]
  },
  {
   "cell_type": "code",
   "execution_count": null,
   "metadata": {},
   "outputs": [],
   "source": []
  }
 ],
 "metadata": {
  "kernelspec": {
   "display_name": "Python 3",
   "language": "python",
   "name": "python3"
  },
  "language_info": {
   "codemirror_mode": {
    "name": "ipython",
    "version": 3
   },
   "file_extension": ".py",
   "mimetype": "text/x-python",
   "name": "python",
   "nbconvert_exporter": "python",
   "pygments_lexer": "ipython3",
   "version": "3.7.4"
  }
 },
 "nbformat": 4,
 "nbformat_minor": 2
}
